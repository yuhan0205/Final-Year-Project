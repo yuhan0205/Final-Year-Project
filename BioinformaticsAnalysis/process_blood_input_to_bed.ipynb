{
 "cells": [
  {
   "cell_type": "code",
   "execution_count": 1,
   "id": "e6a0a451",
   "metadata": {},
   "outputs": [],
   "source": [
    "import pandas as pd"
   ]
  },
  {
   "cell_type": "code",
   "execution_count": 2,
   "id": "7201a1c6",
   "metadata": {},
   "outputs": [],
   "source": [
    "df = pd.read_csv(r\"C:\\Users\\mayh\\OneDrive - A STAR\\atac_seq\\blood_prepare\\GSE129785_scATAC-Hematopoiesis-All.peaks.txt\\GSE129785_scATAC-Hematopoiesis-All.peaks.txt\", sep='_', index_col = False, header = None)"
   ]
  },
  {
   "cell_type": "code",
   "execution_count": 3,
   "id": "60c249b5",
   "metadata": {
    "scrolled": true
   },
   "outputs": [
    {
     "data": {
      "text/html": [
       "<div>\n",
       "<style scoped>\n",
       "    .dataframe tbody tr th:only-of-type {\n",
       "        vertical-align: middle;\n",
       "    }\n",
       "\n",
       "    .dataframe tbody tr th {\n",
       "        vertical-align: top;\n",
       "    }\n",
       "\n",
       "    .dataframe thead th {\n",
       "        text-align: right;\n",
       "    }\n",
       "</style>\n",
       "<table border=\"1\" class=\"dataframe\">\n",
       "  <thead>\n",
       "    <tr style=\"text-align: right;\">\n",
       "      <th></th>\n",
       "      <th>0</th>\n",
       "      <th>1</th>\n",
       "      <th>2</th>\n",
       "    </tr>\n",
       "  </thead>\n",
       "  <tbody>\n",
       "    <tr>\n",
       "      <th>0</th>\n",
       "      <td>chr1</td>\n",
       "      <td>10238</td>\n",
       "      <td>10738</td>\n",
       "    </tr>\n",
       "    <tr>\n",
       "      <th>1</th>\n",
       "      <td>chr1</td>\n",
       "      <td>115476</td>\n",
       "      <td>115976</td>\n",
       "    </tr>\n",
       "    <tr>\n",
       "      <th>2</th>\n",
       "      <td>chr1</td>\n",
       "      <td>236856</td>\n",
       "      <td>237356</td>\n",
       "    </tr>\n",
       "    <tr>\n",
       "      <th>3</th>\n",
       "      <td>chr1</td>\n",
       "      <td>237511</td>\n",
       "      <td>238011</td>\n",
       "    </tr>\n",
       "    <tr>\n",
       "      <th>4</th>\n",
       "      <td>chr1</td>\n",
       "      <td>240801</td>\n",
       "      <td>241301</td>\n",
       "    </tr>\n",
       "    <tr>\n",
       "      <th>...</th>\n",
       "      <td>...</td>\n",
       "      <td>...</td>\n",
       "      <td>...</td>\n",
       "    </tr>\n",
       "    <tr>\n",
       "      <th>571395</th>\n",
       "      <td>chrX</td>\n",
       "      <td>155249323</td>\n",
       "      <td>155249823</td>\n",
       "    </tr>\n",
       "    <tr>\n",
       "      <th>571396</th>\n",
       "      <td>chrX</td>\n",
       "      <td>155253875</td>\n",
       "      <td>155254375</td>\n",
       "    </tr>\n",
       "    <tr>\n",
       "      <th>571397</th>\n",
       "      <td>chrX</td>\n",
       "      <td>155254735</td>\n",
       "      <td>155255235</td>\n",
       "    </tr>\n",
       "    <tr>\n",
       "      <th>571398</th>\n",
       "      <td>chrX</td>\n",
       "      <td>155259327</td>\n",
       "      <td>155259827</td>\n",
       "    </tr>\n",
       "    <tr>\n",
       "      <th>571399</th>\n",
       "      <td>chrX</td>\n",
       "      <td>155260029</td>\n",
       "      <td>155260529</td>\n",
       "    </tr>\n",
       "  </tbody>\n",
       "</table>\n",
       "<p>571400 rows × 3 columns</p>\n",
       "</div>"
      ],
      "text/plain": [
       "           0          1          2\n",
       "0       chr1      10238      10738\n",
       "1       chr1     115476     115976\n",
       "2       chr1     236856     237356\n",
       "3       chr1     237511     238011\n",
       "4       chr1     240801     241301\n",
       "...      ...        ...        ...\n",
       "571395  chrX  155249323  155249823\n",
       "571396  chrX  155253875  155254375\n",
       "571397  chrX  155254735  155255235\n",
       "571398  chrX  155259327  155259827\n",
       "571399  chrX  155260029  155260529\n",
       "\n",
       "[571400 rows x 3 columns]"
      ]
     },
     "execution_count": 3,
     "metadata": {},
     "output_type": "execute_result"
    }
   ],
   "source": [
    "df"
   ]
  },
  {
   "cell_type": "code",
   "execution_count": 4,
   "id": "3d7d94d9",
   "metadata": {},
   "outputs": [
    {
     "data": {
      "text/plain": [
       "(571400, 3)"
      ]
     },
     "execution_count": 4,
     "metadata": {},
     "output_type": "execute_result"
    }
   ],
   "source": [
    "df.shape"
   ]
  },
  {
   "cell_type": "code",
   "execution_count": 5,
   "id": "a617959c",
   "metadata": {},
   "outputs": [
    {
     "data": {
      "text/plain": [
       "numpy.int64"
      ]
     },
     "execution_count": 5,
     "metadata": {},
     "output_type": "execute_result"
    }
   ],
   "source": [
    "type(df[1][0])"
   ]
  },
  {
   "cell_type": "code",
   "execution_count": 6,
   "id": "c467f698",
   "metadata": {},
   "outputs": [
    {
     "data": {
      "text/plain": [
       "0    0\n",
       "1    0\n",
       "2    0\n",
       "dtype: int64"
      ]
     },
     "execution_count": 6,
     "metadata": {},
     "output_type": "execute_result"
    }
   ],
   "source": [
    "df.isna().sum()"
   ]
  },
  {
   "cell_type": "code",
   "execution_count": 7,
   "id": "8c610e79",
   "metadata": {},
   "outputs": [
    {
     "data": {
      "text/html": [
       "<div>\n",
       "<style scoped>\n",
       "    .dataframe tbody tr th:only-of-type {\n",
       "        vertical-align: middle;\n",
       "    }\n",
       "\n",
       "    .dataframe tbody tr th {\n",
       "        vertical-align: top;\n",
       "    }\n",
       "\n",
       "    .dataframe thead th {\n",
       "        text-align: right;\n",
       "    }\n",
       "</style>\n",
       "<table border=\"1\" class=\"dataframe\">\n",
       "  <thead>\n",
       "    <tr style=\"text-align: right;\">\n",
       "      <th></th>\n",
       "      <th>0</th>\n",
       "      <th>1</th>\n",
       "      <th>2</th>\n",
       "      <th>length</th>\n",
       "    </tr>\n",
       "  </thead>\n",
       "  <tbody>\n",
       "    <tr>\n",
       "      <th>0</th>\n",
       "      <td>chr1</td>\n",
       "      <td>10238</td>\n",
       "      <td>10738</td>\n",
       "      <td>500</td>\n",
       "    </tr>\n",
       "    <tr>\n",
       "      <th>1</th>\n",
       "      <td>chr1</td>\n",
       "      <td>115476</td>\n",
       "      <td>115976</td>\n",
       "      <td>500</td>\n",
       "    </tr>\n",
       "    <tr>\n",
       "      <th>2</th>\n",
       "      <td>chr1</td>\n",
       "      <td>236856</td>\n",
       "      <td>237356</td>\n",
       "      <td>500</td>\n",
       "    </tr>\n",
       "    <tr>\n",
       "      <th>3</th>\n",
       "      <td>chr1</td>\n",
       "      <td>237511</td>\n",
       "      <td>238011</td>\n",
       "      <td>500</td>\n",
       "    </tr>\n",
       "    <tr>\n",
       "      <th>4</th>\n",
       "      <td>chr1</td>\n",
       "      <td>240801</td>\n",
       "      <td>241301</td>\n",
       "      <td>500</td>\n",
       "    </tr>\n",
       "    <tr>\n",
       "      <th>...</th>\n",
       "      <td>...</td>\n",
       "      <td>...</td>\n",
       "      <td>...</td>\n",
       "      <td>...</td>\n",
       "    </tr>\n",
       "    <tr>\n",
       "      <th>571395</th>\n",
       "      <td>chrX</td>\n",
       "      <td>155249323</td>\n",
       "      <td>155249823</td>\n",
       "      <td>500</td>\n",
       "    </tr>\n",
       "    <tr>\n",
       "      <th>571396</th>\n",
       "      <td>chrX</td>\n",
       "      <td>155253875</td>\n",
       "      <td>155254375</td>\n",
       "      <td>500</td>\n",
       "    </tr>\n",
       "    <tr>\n",
       "      <th>571397</th>\n",
       "      <td>chrX</td>\n",
       "      <td>155254735</td>\n",
       "      <td>155255235</td>\n",
       "      <td>500</td>\n",
       "    </tr>\n",
       "    <tr>\n",
       "      <th>571398</th>\n",
       "      <td>chrX</td>\n",
       "      <td>155259327</td>\n",
       "      <td>155259827</td>\n",
       "      <td>500</td>\n",
       "    </tr>\n",
       "    <tr>\n",
       "      <th>571399</th>\n",
       "      <td>chrX</td>\n",
       "      <td>155260029</td>\n",
       "      <td>155260529</td>\n",
       "      <td>500</td>\n",
       "    </tr>\n",
       "  </tbody>\n",
       "</table>\n",
       "<p>571400 rows × 4 columns</p>\n",
       "</div>"
      ],
      "text/plain": [
       "           0          1          2  length\n",
       "0       chr1      10238      10738     500\n",
       "1       chr1     115476     115976     500\n",
       "2       chr1     236856     237356     500\n",
       "3       chr1     237511     238011     500\n",
       "4       chr1     240801     241301     500\n",
       "...      ...        ...        ...     ...\n",
       "571395  chrX  155249323  155249823     500\n",
       "571396  chrX  155253875  155254375     500\n",
       "571397  chrX  155254735  155255235     500\n",
       "571398  chrX  155259327  155259827     500\n",
       "571399  chrX  155260029  155260529     500\n",
       "\n",
       "[571400 rows x 4 columns]"
      ]
     },
     "execution_count": 7,
     "metadata": {},
     "output_type": "execute_result"
    }
   ],
   "source": [
    "df['length'] = df[2].sub(df[1], axis = 0)\n",
    "df"
   ]
  },
  {
   "cell_type": "code",
   "execution_count": 8,
   "id": "5407c87e",
   "metadata": {},
   "outputs": [
    {
     "data": {
      "text/html": [
       "<div>\n",
       "<style scoped>\n",
       "    .dataframe tbody tr th:only-of-type {\n",
       "        vertical-align: middle;\n",
       "    }\n",
       "\n",
       "    .dataframe tbody tr th {\n",
       "        vertical-align: top;\n",
       "    }\n",
       "\n",
       "    .dataframe thead th {\n",
       "        text-align: right;\n",
       "    }\n",
       "</style>\n",
       "<table border=\"1\" class=\"dataframe\">\n",
       "  <thead>\n",
       "    <tr style=\"text-align: right;\">\n",
       "      <th></th>\n",
       "      <th>0</th>\n",
       "      <th>1</th>\n",
       "      <th>2</th>\n",
       "      <th>length</th>\n",
       "    </tr>\n",
       "  </thead>\n",
       "  <tbody>\n",
       "  </tbody>\n",
       "</table>\n",
       "</div>"
      ],
      "text/plain": [
       "Empty DataFrame\n",
       "Columns: [0, 1, 2, length]\n",
       "Index: []"
      ]
     },
     "execution_count": 8,
     "metadata": {},
     "output_type": "execute_result"
    }
   ],
   "source": [
    "df[df['length'] != 500]"
   ]
  },
  {
   "cell_type": "code",
   "execution_count": 10,
   "id": "6ca5fce5",
   "metadata": {},
   "outputs": [],
   "source": [
    "df.to_csv('blood_all_peaks.txt', sep='\\t', index=False, header=False)"
   ]
  },
  {
   "cell_type": "code",
   "execution_count": null,
   "id": "abd54001",
   "metadata": {},
   "outputs": [],
   "source": []
  }
 ],
 "metadata": {
  "kernelspec": {
   "display_name": "Python 3 (ipykernel)",
   "language": "python",
   "name": "python3"
  },
  "language_info": {
   "codemirror_mode": {
    "name": "ipython",
    "version": 3
   },
   "file_extension": ".py",
   "mimetype": "text/x-python",
   "name": "python",
   "nbconvert_exporter": "python",
   "pygments_lexer": "ipython3",
   "version": "3.9.7"
  }
 },
 "nbformat": 4,
 "nbformat_minor": 5
}
