{
 "cells": [
  {
   "cell_type": "code",
   "execution_count": 1,
   "id": "a3f5350a",
   "metadata": {},
   "outputs": [],
   "source": [
    "import pandas as pd"
   ]
  },
  {
   "cell_type": "code",
   "execution_count": 2,
   "id": "e7fb2f52",
   "metadata": {},
   "outputs": [
    {
     "data": {
      "text/html": [
       "<div>\n",
       "<style scoped>\n",
       "    .dataframe tbody tr th:only-of-type {\n",
       "        vertical-align: middle;\n",
       "    }\n",
       "\n",
       "    .dataframe tbody tr th {\n",
       "        vertical-align: top;\n",
       "    }\n",
       "\n",
       "    .dataframe thead th {\n",
       "        text-align: right;\n",
       "    }\n",
       "</style>\n",
       "<table border=\"1\" class=\"dataframe\">\n",
       "  <thead>\n",
       "    <tr style=\"text-align: right;\">\n",
       "      <th></th>\n",
       "      <th>0</th>\n",
       "      <th>1</th>\n",
       "      <th>2</th>\n",
       "      <th>3</th>\n",
       "      <th>4</th>\n",
       "    </tr>\n",
       "  </thead>\n",
       "  <tbody>\n",
       "    <tr>\n",
       "      <th>0</th>\n",
       "      <td>chr1</td>\n",
       "      <td>9920</td>\n",
       "      <td>10727</td>\n",
       "      <td>98</td>\n",
       "      <td>228.306122</td>\n",
       "    </tr>\n",
       "    <tr>\n",
       "      <th>1</th>\n",
       "      <td>chr1</td>\n",
       "      <td>40772</td>\n",
       "      <td>41742</td>\n",
       "      <td>7</td>\n",
       "      <td>505.142857</td>\n",
       "    </tr>\n",
       "    <tr>\n",
       "      <th>2</th>\n",
       "      <td>chr1</td>\n",
       "      <td>41916</td>\n",
       "      <td>42557</td>\n",
       "      <td>9</td>\n",
       "      <td>517.444444</td>\n",
       "    </tr>\n",
       "    <tr>\n",
       "      <th>3</th>\n",
       "      <td>chr1</td>\n",
       "      <td>46815</td>\n",
       "      <td>47046</td>\n",
       "      <td>2</td>\n",
       "      <td>184.000000</td>\n",
       "    </tr>\n",
       "    <tr>\n",
       "      <th>4</th>\n",
       "      <td>chr1</td>\n",
       "      <td>53306</td>\n",
       "      <td>53515</td>\n",
       "      <td>2</td>\n",
       "      <td>195.500000</td>\n",
       "    </tr>\n",
       "  </tbody>\n",
       "</table>\n",
       "</div>"
      ],
      "text/plain": [
       "      0      1      2   3           4\n",
       "0  chr1   9920  10727  98  228.306122\n",
       "1  chr1  40772  41742   7  505.142857\n",
       "2  chr1  41916  42557   9  517.444444\n",
       "3  chr1  46815  47046   2  184.000000\n",
       "4  chr1  53306  53515   2  195.500000"
      ]
     },
     "execution_count": 2,
     "metadata": {},
     "output_type": "execute_result"
    }
   ],
   "source": [
    "df = pd.read_csv('tissue_union.bed', header = None, sep = '\\t')\n",
    "df.head()"
   ]
  },
  {
   "cell_type": "code",
   "execution_count": 3,
   "id": "ec8dbe9a",
   "metadata": {},
   "outputs": [
    {
     "data": {
      "text/plain": [
       "(753526, 5)"
      ]
     },
     "execution_count": 3,
     "metadata": {},
     "output_type": "execute_result"
    }
   ],
   "source": [
    "df.shape"
   ]
  },
  {
   "cell_type": "code",
   "execution_count": 4,
   "id": "f4ba40ec",
   "metadata": {},
   "outputs": [
    {
     "data": {
      "text/html": [
       "<div>\n",
       "<style scoped>\n",
       "    .dataframe tbody tr th:only-of-type {\n",
       "        vertical-align: middle;\n",
       "    }\n",
       "\n",
       "    .dataframe tbody tr th {\n",
       "        vertical-align: top;\n",
       "    }\n",
       "\n",
       "    .dataframe thead th {\n",
       "        text-align: right;\n",
       "    }\n",
       "</style>\n",
       "<table border=\"1\" class=\"dataframe\">\n",
       "  <thead>\n",
       "    <tr style=\"text-align: right;\">\n",
       "      <th></th>\n",
       "      <th>1</th>\n",
       "      <th>2</th>\n",
       "      <th>3</th>\n",
       "      <th>4</th>\n",
       "    </tr>\n",
       "  </thead>\n",
       "  <tbody>\n",
       "    <tr>\n",
       "      <th>count</th>\n",
       "      <td>7.535260e+05</td>\n",
       "      <td>7.535260e+05</td>\n",
       "      <td>753526.000000</td>\n",
       "      <td>753526.000000</td>\n",
       "    </tr>\n",
       "    <tr>\n",
       "      <th>mean</th>\n",
       "      <td>7.970622e+07</td>\n",
       "      <td>7.970689e+07</td>\n",
       "      <td>20.487243</td>\n",
       "      <td>331.216853</td>\n",
       "    </tr>\n",
       "    <tr>\n",
       "      <th>std</th>\n",
       "      <td>5.654557e+07</td>\n",
       "      <td>5.654556e+07</td>\n",
       "      <td>44.551223</td>\n",
       "      <td>212.327024</td>\n",
       "    </tr>\n",
       "    <tr>\n",
       "      <th>min</th>\n",
       "      <td>9.920000e+03</td>\n",
       "      <td>1.015900e+04</td>\n",
       "      <td>1.000000</td>\n",
       "      <td>20.000000</td>\n",
       "    </tr>\n",
       "    <tr>\n",
       "      <th>25%</th>\n",
       "      <td>3.380748e+07</td>\n",
       "      <td>3.380800e+07</td>\n",
       "      <td>2.000000</td>\n",
       "      <td>155.458750</td>\n",
       "    </tr>\n",
       "    <tr>\n",
       "      <th>50%</th>\n",
       "      <td>6.973658e+07</td>\n",
       "      <td>6.973714e+07</td>\n",
       "      <td>5.000000</td>\n",
       "      <td>293.910428</td>\n",
       "    </tr>\n",
       "    <tr>\n",
       "      <th>75%</th>\n",
       "      <td>1.168339e+08</td>\n",
       "      <td>1.168351e+08</td>\n",
       "      <td>17.000000</td>\n",
       "      <td>464.500000</td>\n",
       "    </tr>\n",
       "    <tr>\n",
       "      <th>max</th>\n",
       "      <td>2.489449e+08</td>\n",
       "      <td>2.489464e+08</td>\n",
       "      <td>725.000000</td>\n",
       "      <td>1000.000000</td>\n",
       "    </tr>\n",
       "  </tbody>\n",
       "</table>\n",
       "</div>"
      ],
      "text/plain": [
       "                  1             2              3              4\n",
       "count  7.535260e+05  7.535260e+05  753526.000000  753526.000000\n",
       "mean   7.970622e+07  7.970689e+07      20.487243     331.216853\n",
       "std    5.654557e+07  5.654556e+07      44.551223     212.327024\n",
       "min    9.920000e+03  1.015900e+04       1.000000      20.000000\n",
       "25%    3.380748e+07  3.380800e+07       2.000000     155.458750\n",
       "50%    6.973658e+07  6.973714e+07       5.000000     293.910428\n",
       "75%    1.168339e+08  1.168351e+08      17.000000     464.500000\n",
       "max    2.489449e+08  2.489464e+08     725.000000    1000.000000"
      ]
     },
     "execution_count": 4,
     "metadata": {},
     "output_type": "execute_result"
    }
   ],
   "source": [
    "df.describe()"
   ]
  },
  {
   "cell_type": "code",
   "execution_count": 5,
   "id": "3c719c96",
   "metadata": {},
   "outputs": [
    {
     "data": {
      "text/plain": [
       "(419090, 5)"
      ]
     },
     "execution_count": 5,
     "metadata": {},
     "output_type": "execute_result"
    }
   ],
   "source": [
    "df = df[(df[3] >= 3) & (df[4] >= 155.5)]\n",
    "df.shape"
   ]
  },
  {
   "cell_type": "code",
   "execution_count": 6,
   "id": "6c539abb",
   "metadata": {},
   "outputs": [
    {
     "data": {
      "text/plain": [
       "0    0\n",
       "1    0\n",
       "2    0\n",
       "3    0\n",
       "4    0\n",
       "dtype: int64"
      ]
     },
     "execution_count": 6,
     "metadata": {},
     "output_type": "execute_result"
    }
   ],
   "source": [
    "df.isna().sum()"
   ]
  },
  {
   "cell_type": "code",
   "execution_count": 7,
   "id": "da7eaedb",
   "metadata": {},
   "outputs": [
    {
     "data": {
      "text/html": [
       "<div>\n",
       "<style scoped>\n",
       "    .dataframe tbody tr th:only-of-type {\n",
       "        vertical-align: middle;\n",
       "    }\n",
       "\n",
       "    .dataframe tbody tr th {\n",
       "        vertical-align: top;\n",
       "    }\n",
       "\n",
       "    .dataframe thead th {\n",
       "        text-align: right;\n",
       "    }\n",
       "</style>\n",
       "<table border=\"1\" class=\"dataframe\">\n",
       "  <thead>\n",
       "    <tr style=\"text-align: right;\">\n",
       "      <th></th>\n",
       "      <th>0</th>\n",
       "      <th>1</th>\n",
       "      <th>2</th>\n",
       "      <th>3</th>\n",
       "      <th>4</th>\n",
       "    </tr>\n",
       "  </thead>\n",
       "  <tbody>\n",
       "    <tr>\n",
       "      <th>0</th>\n",
       "      <td>chr1</td>\n",
       "      <td>9920</td>\n",
       "      <td>10727</td>\n",
       "      <td>98</td>\n",
       "      <td>228.306122</td>\n",
       "    </tr>\n",
       "    <tr>\n",
       "      <th>1</th>\n",
       "      <td>chr1</td>\n",
       "      <td>40772</td>\n",
       "      <td>41742</td>\n",
       "      <td>7</td>\n",
       "      <td>505.142857</td>\n",
       "    </tr>\n",
       "    <tr>\n",
       "      <th>2</th>\n",
       "      <td>chr1</td>\n",
       "      <td>41916</td>\n",
       "      <td>42557</td>\n",
       "      <td>9</td>\n",
       "      <td>517.444444</td>\n",
       "    </tr>\n",
       "    <tr>\n",
       "      <th>6</th>\n",
       "      <td>chr1</td>\n",
       "      <td>78787</td>\n",
       "      <td>79757</td>\n",
       "      <td>15</td>\n",
       "      <td>672.933333</td>\n",
       "    </tr>\n",
       "    <tr>\n",
       "      <th>7</th>\n",
       "      <td>chr1</td>\n",
       "      <td>180804</td>\n",
       "      <td>181918</td>\n",
       "      <td>106</td>\n",
       "      <td>307.028302</td>\n",
       "    </tr>\n",
       "  </tbody>\n",
       "</table>\n",
       "</div>"
      ],
      "text/plain": [
       "      0       1       2    3           4\n",
       "0  chr1    9920   10727   98  228.306122\n",
       "1  chr1   40772   41742    7  505.142857\n",
       "2  chr1   41916   42557    9  517.444444\n",
       "6  chr1   78787   79757   15  672.933333\n",
       "7  chr1  180804  181918  106  307.028302"
      ]
     },
     "execution_count": 7,
     "metadata": {},
     "output_type": "execute_result"
    }
   ],
   "source": [
    "df.head()"
   ]
  },
  {
   "cell_type": "code",
   "execution_count": 8,
   "id": "c59f65cd",
   "metadata": {},
   "outputs": [],
   "source": [
    "df.to_csv('filtered.bed', sep = '\\t', index = False, header = False)"
   ]
  },
  {
   "cell_type": "code",
   "execution_count": null,
   "id": "79706354",
   "metadata": {},
   "outputs": [],
   "source": []
  }
 ],
 "metadata": {
  "kernelspec": {
   "display_name": "Python 3 (ipykernel)",
   "language": "python",
   "name": "python3"
  },
  "language_info": {
   "codemirror_mode": {
    "name": "ipython",
    "version": 3
   },
   "file_extension": ".py",
   "mimetype": "text/x-python",
   "name": "python",
   "nbconvert_exporter": "python",
   "pygments_lexer": "ipython3",
   "version": "3.9.7"
  }
 },
 "nbformat": 4,
 "nbformat_minor": 5
}
