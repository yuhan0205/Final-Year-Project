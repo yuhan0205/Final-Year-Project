{
 "cells": [
  {
   "cell_type": "code",
   "execution_count": 1,
   "id": "80f5923e",
   "metadata": {},
   "outputs": [],
   "source": [
    "import pandas as pd"
   ]
  },
  {
   "cell_type": "code",
   "execution_count": 3,
   "id": "fcc12646",
   "metadata": {},
   "outputs": [
    {
     "data": {
      "text/html": [
       "<div>\n",
       "<style scoped>\n",
       "    .dataframe tbody tr th:only-of-type {\n",
       "        vertical-align: middle;\n",
       "    }\n",
       "\n",
       "    .dataframe tbody tr th {\n",
       "        vertical-align: top;\n",
       "    }\n",
       "\n",
       "    .dataframe thead th {\n",
       "        text-align: right;\n",
       "    }\n",
       "</style>\n",
       "<table border=\"1\" class=\"dataframe\">\n",
       "  <thead>\n",
       "    <tr style=\"text-align: right;\">\n",
       "      <th></th>\n",
       "      <th>hg19_Chromosome</th>\n",
       "      <th>hg19_Start</th>\n",
       "      <th>hg19_End</th>\n",
       "    </tr>\n",
       "  </thead>\n",
       "  <tbody>\n",
       "    <tr>\n",
       "      <th>0</th>\n",
       "      <td>chr1</td>\n",
       "      <td>841392.0</td>\n",
       "      <td>841893.0</td>\n",
       "    </tr>\n",
       "    <tr>\n",
       "      <th>1</th>\n",
       "      <td>chr2</td>\n",
       "      <td>113299238.0</td>\n",
       "      <td>113299739.0</td>\n",
       "    </tr>\n",
       "    <tr>\n",
       "      <th>2</th>\n",
       "      <td>chr1</td>\n",
       "      <td>21999914.0</td>\n",
       "      <td>22000415.0</td>\n",
       "    </tr>\n",
       "    <tr>\n",
       "      <th>3</th>\n",
       "      <td>chr2</td>\n",
       "      <td>113341782.0</td>\n",
       "      <td>113342283.0</td>\n",
       "    </tr>\n",
       "    <tr>\n",
       "      <th>4</th>\n",
       "      <td>chr2</td>\n",
       "      <td>113353820.0</td>\n",
       "      <td>113354321.0</td>\n",
       "    </tr>\n",
       "    <tr>\n",
       "      <th>...</th>\n",
       "      <td>...</td>\n",
       "      <td>...</td>\n",
       "      <td>...</td>\n",
       "    </tr>\n",
       "    <tr>\n",
       "      <th>562704</th>\n",
       "      <td>chr21</td>\n",
       "      <td>33468669.0</td>\n",
       "      <td>33469170.0</td>\n",
       "    </tr>\n",
       "    <tr>\n",
       "      <th>562705</th>\n",
       "      <td>chr21</td>\n",
       "      <td>33711915.0</td>\n",
       "      <td>33712416.0</td>\n",
       "    </tr>\n",
       "    <tr>\n",
       "      <th>562706</th>\n",
       "      <td>chr21</td>\n",
       "      <td>33722530.0</td>\n",
       "      <td>33723031.0</td>\n",
       "    </tr>\n",
       "    <tr>\n",
       "      <th>562707</th>\n",
       "      <td>chr21</td>\n",
       "      <td>33944859.0</td>\n",
       "      <td>33945360.0</td>\n",
       "    </tr>\n",
       "    <tr>\n",
       "      <th>562708</th>\n",
       "      <td>chr21</td>\n",
       "      <td>33950347.0</td>\n",
       "      <td>33950848.0</td>\n",
       "    </tr>\n",
       "  </tbody>\n",
       "</table>\n",
       "<p>562709 rows × 3 columns</p>\n",
       "</div>"
      ],
      "text/plain": [
       "       hg19_Chromosome   hg19_Start     hg19_End\n",
       "0                 chr1     841392.0     841893.0\n",
       "1                 chr2  113299238.0  113299739.0\n",
       "2                 chr1   21999914.0   22000415.0\n",
       "3                 chr2  113341782.0  113342283.0\n",
       "4                 chr2  113353820.0  113354321.0\n",
       "...                ...          ...          ...\n",
       "562704           chr21   33468669.0   33469170.0\n",
       "562705           chr21   33711915.0   33712416.0\n",
       "562706           chr21   33722530.0   33723031.0\n",
       "562707           chr21   33944859.0   33945360.0\n",
       "562708           chr21   33950347.0   33950848.0\n",
       "\n",
       "[562709 rows x 3 columns]"
      ]
     },
     "execution_count": 3,
     "metadata": {},
     "output_type": "execute_result"
    }
   ],
   "source": [
    "df = pd.read_excel(r\"Corces_pan_cancer.xlsx\", sheet_name = \"Pan-Cancer_PeakCalls\", skiprows = 22, header = 0, usecols = [3,4,5])\n",
    "df"
   ]
  },
  {
   "cell_type": "code",
   "execution_count": 4,
   "id": "57573d01",
   "metadata": {},
   "outputs": [
    {
     "data": {
      "text/plain": [
       "(562709, 3)"
      ]
     },
     "execution_count": 4,
     "metadata": {},
     "output_type": "execute_result"
    }
   ],
   "source": [
    "df.shape"
   ]
  },
  {
   "cell_type": "code",
   "execution_count": 7,
   "id": "1b46a883",
   "metadata": {},
   "outputs": [
    {
     "data": {
      "text/plain": [
       "numpy.float64"
      ]
     },
     "execution_count": 7,
     "metadata": {},
     "output_type": "execute_result"
    }
   ],
   "source": [
    "type(df['hg19_Start'][0])"
   ]
  },
  {
   "cell_type": "code",
   "execution_count": 10,
   "id": "44d3f393",
   "metadata": {},
   "outputs": [
    {
     "data": {
      "text/plain": [
       "hg19_Chromosome    1501\n",
       "hg19_Start         1501\n",
       "hg19_End           1501\n",
       "dtype: int64"
      ]
     },
     "execution_count": 10,
     "metadata": {},
     "output_type": "execute_result"
    }
   ],
   "source": [
    "df.isna().sum()"
   ]
  },
  {
   "cell_type": "code",
   "execution_count": 11,
   "id": "0d454553",
   "metadata": {},
   "outputs": [],
   "source": [
    "df.dropna(inplace=True)"
   ]
  },
  {
   "cell_type": "code",
   "execution_count": 12,
   "id": "f9b1fd56",
   "metadata": {},
   "outputs": [
    {
     "data": {
      "text/plain": [
       "hg19_Chromosome    0\n",
       "hg19_Start         0\n",
       "hg19_End           0\n",
       "dtype: int64"
      ]
     },
     "execution_count": 12,
     "metadata": {},
     "output_type": "execute_result"
    }
   ],
   "source": [
    "df.isna().sum()"
   ]
  },
  {
   "cell_type": "code",
   "execution_count": 13,
   "id": "674bc066",
   "metadata": {},
   "outputs": [],
   "source": [
    "df['hg19_Start'] = df['hg19_Start'].astype(int)"
   ]
  },
  {
   "cell_type": "code",
   "execution_count": 14,
   "id": "6668fb33",
   "metadata": {},
   "outputs": [],
   "source": [
    "df['hg19_End'] = df['hg19_End'].astype(int)"
   ]
  },
  {
   "cell_type": "code",
   "execution_count": 15,
   "id": "430ab45b",
   "metadata": {},
   "outputs": [
    {
     "data": {
      "text/html": [
       "<div>\n",
       "<style scoped>\n",
       "    .dataframe tbody tr th:only-of-type {\n",
       "        vertical-align: middle;\n",
       "    }\n",
       "\n",
       "    .dataframe tbody tr th {\n",
       "        vertical-align: top;\n",
       "    }\n",
       "\n",
       "    .dataframe thead th {\n",
       "        text-align: right;\n",
       "    }\n",
       "</style>\n",
       "<table border=\"1\" class=\"dataframe\">\n",
       "  <thead>\n",
       "    <tr style=\"text-align: right;\">\n",
       "      <th></th>\n",
       "      <th>hg19_Chromosome</th>\n",
       "      <th>hg19_Start</th>\n",
       "      <th>hg19_End</th>\n",
       "    </tr>\n",
       "  </thead>\n",
       "  <tbody>\n",
       "    <tr>\n",
       "      <th>0</th>\n",
       "      <td>chr1</td>\n",
       "      <td>841392</td>\n",
       "      <td>841893</td>\n",
       "    </tr>\n",
       "    <tr>\n",
       "      <th>1</th>\n",
       "      <td>chr2</td>\n",
       "      <td>113299238</td>\n",
       "      <td>113299739</td>\n",
       "    </tr>\n",
       "    <tr>\n",
       "      <th>2</th>\n",
       "      <td>chr1</td>\n",
       "      <td>21999914</td>\n",
       "      <td>22000415</td>\n",
       "    </tr>\n",
       "    <tr>\n",
       "      <th>3</th>\n",
       "      <td>chr2</td>\n",
       "      <td>113341782</td>\n",
       "      <td>113342283</td>\n",
       "    </tr>\n",
       "    <tr>\n",
       "      <th>4</th>\n",
       "      <td>chr2</td>\n",
       "      <td>113353820</td>\n",
       "      <td>113354321</td>\n",
       "    </tr>\n",
       "  </tbody>\n",
       "</table>\n",
       "</div>"
      ],
      "text/plain": [
       "  hg19_Chromosome  hg19_Start   hg19_End\n",
       "0            chr1      841392     841893\n",
       "1            chr2   113299238  113299739\n",
       "2            chr1    21999914   22000415\n",
       "3            chr2   113341782  113342283\n",
       "4            chr2   113353820  113354321"
      ]
     },
     "execution_count": 15,
     "metadata": {},
     "output_type": "execute_result"
    }
   ],
   "source": [
    "df.head()"
   ]
  },
  {
   "cell_type": "code",
   "execution_count": 16,
   "id": "4634c89a",
   "metadata": {},
   "outputs": [],
   "source": [
    "df.to_csv('Corces_pan_cancer_hg19.txt', sep='\\t', index=False, header=False)"
   ]
  },
  {
   "cell_type": "code",
   "execution_count": null,
   "id": "8f0992e3",
   "metadata": {},
   "outputs": [],
   "source": []
  }
 ],
 "metadata": {
  "kernelspec": {
   "display_name": "Python 3 (ipykernel)",
   "language": "python",
   "name": "python3"
  },
  "language_info": {
   "codemirror_mode": {
    "name": "ipython",
    "version": 3
   },
   "file_extension": ".py",
   "mimetype": "text/x-python",
   "name": "python",
   "nbconvert_exporter": "python",
   "pygments_lexer": "ipython3",
   "version": "3.9.7"
  }
 },
 "nbformat": 4,
 "nbformat_minor": 5
}
