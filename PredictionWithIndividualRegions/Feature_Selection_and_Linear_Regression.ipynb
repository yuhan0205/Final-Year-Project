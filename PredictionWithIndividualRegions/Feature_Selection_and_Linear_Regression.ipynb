{
  "nbformat": 4,
  "nbformat_minor": 0,
  "metadata": {
    "colab": {
      "name": "Feature_Selection_and_Linear_Regression.ipynb",
      "provenance": [],
      "collapsed_sections": []
    },
    "kernelspec": {
      "name": "python3",
      "display_name": "Python 3"
    },
    "language_info": {
      "name": "python"
    }
  },
  "cells": [
    {
      "cell_type": "code",
      "source": [
        "import numpy as np\n",
        "import pandas as pd\n",
        "import matplotlib.pyplot as plt\n",
        "import seaborn as sns\n",
        "import os\n",
        "import random\n",
        "from scipy.special import expit, logit"
      ],
      "metadata": {
        "id": "oEgA-A3gcYa-"
      },
      "execution_count": 133,
      "outputs": []
    },
    {
      "cell_type": "code",
      "source": [
        "from sklearn.linear_model import LinearRegression, Ridge, Lasso\n",
        "from sklearn.model_selection import GridSearchCV\n",
        "from sklearn.model_selection import cross_val_score\n",
        "from sklearn.metrics import mean_absolute_error\n",
        "import scipy.stats as scst"
      ],
      "metadata": {
        "id": "Ti9hS2uISWDC"
      },
      "execution_count": 7,
      "outputs": []
    },
    {
      "cell_type": "code",
      "source": [
        "from google.colab import drive\n",
        "drive.mount('/content/drive', force_remount=True)\n",
        "print(os.getcwd())\n",
        "os.chdir(\"/content/drive/My Drive/fyp\")\n",
        "print(os.getcwd())"
      ],
      "metadata": {
        "colab": {
          "base_uri": "https://localhost:8080/"
        },
        "id": "_qb3a1LbP6zM",
        "outputId": "e6edc0bf-ef3b-4522-a57c-f26f34298ec4"
      },
      "execution_count": 2,
      "outputs": [
        {
          "output_type": "stream",
          "name": "stdout",
          "text": [
            "Mounted at /content/drive\n",
            "/content\n",
            "/content/drive/My Drive/fyp\n"
          ]
        }
      ]
    },
    {
      "cell_type": "code",
      "source": [
        "train_df = pd.read_csv('train_new.csv')\n",
        "test_df = pd.read_csv('test_new.csv')"
      ],
      "metadata": {
        "id": "-OYFenQSgAd_"
      },
      "execution_count": 3,
      "outputs": []
    },
    {
      "cell_type": "code",
      "source": [
        "X_train = train_df.drop(['Unnamed: 0', 'fraction', 'file_origin', '4_49653612-49665611'], axis = 1)\n",
        "y_train = train_df['fraction']\n",
        "X_test = test_df.drop(['Unnamed: 0', 'fraction', 'file_origin', '4_49653612-49665611'], axis = 1)\n",
        "y_test = test_df['fraction']"
      ],
      "metadata": {
        "id": "WYJ0uAdagAg_"
      },
      "execution_count": 4,
      "outputs": []
    },
    {
      "cell_type": "code",
      "source": [
        "y_train_logit = logit(y_train + 0.01)\n",
        "y_test_logit = logit(y_test + 0.01)"
      ],
      "metadata": {
        "id": "54ezsIlUfR4W"
      },
      "execution_count": 6,
      "outputs": []
    },
    {
      "cell_type": "code",
      "source": [
        "!git clone https://github.com/scikit-learn-contrib/stability-selection.git"
      ],
      "metadata": {
        "colab": {
          "base_uri": "https://localhost:8080/"
        },
        "id": "X8UDjZW6pzWP",
        "outputId": "10886a1c-b9a6-4c3b-8aa7-99358d83e437"
      },
      "execution_count": 8,
      "outputs": [
        {
          "output_type": "stream",
          "name": "stdout",
          "text": [
            "fatal: destination path 'stability-selection' already exists and is not an empty directory.\n"
          ]
        }
      ]
    },
    {
      "cell_type": "code",
      "source": [
        "%cd stability-selection/"
      ],
      "metadata": {
        "colab": {
          "base_uri": "https://localhost:8080/"
        },
        "id": "ftBcwyvepzYh",
        "outputId": "8ad45094-853a-4eb0-9028-43a4142db7d9"
      },
      "execution_count": 9,
      "outputs": [
        {
          "output_type": "stream",
          "name": "stdout",
          "text": [
            "/content/drive/MyDrive/fyp/stability-selection\n"
          ]
        }
      ]
    },
    {
      "cell_type": "code",
      "source": [
        "!python setup.py install"
      ],
      "metadata": {
        "colab": {
          "base_uri": "https://localhost:8080/"
        },
        "id": "gdZO1O83pzaZ",
        "outputId": "1e0be6c9-2187-452f-9fb3-4afe99b450cf"
      },
      "execution_count": 10,
      "outputs": [
        {
          "output_type": "stream",
          "name": "stdout",
          "text": [
            "/usr/local/lib/python3.7/dist-packages/setuptools/dist.py:700: UserWarning: Usage of dash-separated 'description-file' will not be supported in future versions. Please use the underscore name 'description_file' instead\n",
            "  % (opt, underscore_opt))\n",
            "running install\n",
            "running bdist_egg\n",
            "running egg_info\n",
            "writing stability_selection.egg-info/PKG-INFO\n",
            "writing dependency_links to stability_selection.egg-info/dependency_links.txt\n",
            "writing requirements to stability_selection.egg-info/requires.txt\n",
            "writing top-level names to stability_selection.egg-info/top_level.txt\n",
            "reading manifest template 'MANIFEST.in'\n",
            "adding license file 'LICENSE'\n",
            "writing manifest file 'stability_selection.egg-info/SOURCES.txt'\n",
            "installing library code to build/bdist.linux-x86_64/egg\n",
            "running install_lib\n",
            "running build_py\n",
            "creating build/bdist.linux-x86_64/egg\n",
            "creating build/bdist.linux-x86_64/egg/stability_selection\n",
            "copying build/lib/stability_selection/__init__.py -> build/bdist.linux-x86_64/egg/stability_selection\n",
            "copying build/lib/stability_selection/randomized_lasso.py -> build/bdist.linux-x86_64/egg/stability_selection\n",
            "copying build/lib/stability_selection/bootstrap.py -> build/bdist.linux-x86_64/egg/stability_selection\n",
            "creating build/bdist.linux-x86_64/egg/stability_selection/tests\n",
            "copying build/lib/stability_selection/tests/test_randomized_lasso.py -> build/bdist.linux-x86_64/egg/stability_selection/tests\n",
            "copying build/lib/stability_selection/tests/test_common.py -> build/bdist.linux-x86_64/egg/stability_selection/tests\n",
            "copying build/lib/stability_selection/tests/__init__.py -> build/bdist.linux-x86_64/egg/stability_selection/tests\n",
            "copying build/lib/stability_selection/tests/test_stratified_bootstrap.py -> build/bdist.linux-x86_64/egg/stability_selection/tests\n",
            "copying build/lib/stability_selection/tests/test_stability_selection.py -> build/bdist.linux-x86_64/egg/stability_selection/tests\n",
            "copying build/lib/stability_selection/stability_selection.py -> build/bdist.linux-x86_64/egg/stability_selection\n",
            "byte-compiling build/bdist.linux-x86_64/egg/stability_selection/__init__.py to __init__.cpython-37.pyc\n",
            "byte-compiling build/bdist.linux-x86_64/egg/stability_selection/randomized_lasso.py to randomized_lasso.cpython-37.pyc\n",
            "byte-compiling build/bdist.linux-x86_64/egg/stability_selection/bootstrap.py to bootstrap.cpython-37.pyc\n",
            "byte-compiling build/bdist.linux-x86_64/egg/stability_selection/tests/test_randomized_lasso.py to test_randomized_lasso.cpython-37.pyc\n",
            "byte-compiling build/bdist.linux-x86_64/egg/stability_selection/tests/test_common.py to test_common.cpython-37.pyc\n",
            "byte-compiling build/bdist.linux-x86_64/egg/stability_selection/tests/__init__.py to __init__.cpython-37.pyc\n",
            "byte-compiling build/bdist.linux-x86_64/egg/stability_selection/tests/test_stratified_bootstrap.py to test_stratified_bootstrap.cpython-37.pyc\n",
            "byte-compiling build/bdist.linux-x86_64/egg/stability_selection/tests/test_stability_selection.py to test_stability_selection.cpython-37.pyc\n",
            "byte-compiling build/bdist.linux-x86_64/egg/stability_selection/stability_selection.py to stability_selection.cpython-37.pyc\n",
            "creating build/bdist.linux-x86_64/egg/EGG-INFO\n",
            "copying stability_selection.egg-info/PKG-INFO -> build/bdist.linux-x86_64/egg/EGG-INFO\n",
            "copying stability_selection.egg-info/SOURCES.txt -> build/bdist.linux-x86_64/egg/EGG-INFO\n",
            "copying stability_selection.egg-info/dependency_links.txt -> build/bdist.linux-x86_64/egg/EGG-INFO\n",
            "copying stability_selection.egg-info/requires.txt -> build/bdist.linux-x86_64/egg/EGG-INFO\n",
            "copying stability_selection.egg-info/top_level.txt -> build/bdist.linux-x86_64/egg/EGG-INFO\n",
            "zip_safe flag not set; analyzing archive contents...\n",
            "creating 'dist/stability_selection-0.0.1-py3.7.egg' and adding 'build/bdist.linux-x86_64/egg' to it\n",
            "removing 'build/bdist.linux-x86_64/egg' (and everything under it)\n",
            "Processing stability_selection-0.0.1-py3.7.egg\n",
            "Copying stability_selection-0.0.1-py3.7.egg to /usr/local/lib/python3.7/dist-packages\n",
            "Adding stability-selection 0.0.1 to easy-install.pth file\n",
            "\n",
            "Installed /usr/local/lib/python3.7/dist-packages/stability_selection-0.0.1-py3.7.egg\n",
            "Processing dependencies for stability-selection==0.0.1\n",
            "Searching for nose>=1.1.2\n",
            "Reading https://pypi.org/simple/nose/\n",
            "Downloading https://files.pythonhosted.org/packages/15/d8/dd071918c040f50fa1cf80da16423af51ff8ce4a0f2399b7bf8de45ac3d9/nose-1.3.7-py3-none-any.whl#sha256=9ff7c6cc443f8c51994b34a667bbcf45afd6d945be7477b52e97516fd17c53ac\n",
            "Best match: nose 1.3.7\n",
            "Processing nose-1.3.7-py3-none-any.whl\n",
            "Installing nose-1.3.7-py3-none-any.whl to /usr/local/lib/python3.7/dist-packages\n",
            "Adding nose 1.3.7 to easy-install.pth file\n",
            "Installing nosetests script to /usr/local/bin\n",
            "Installing nosetests-3.4 script to /usr/local/bin\n",
            "\n",
            "Installed /usr/local/lib/python3.7/dist-packages/nose-1.3.7-py3.7.egg\n",
            "Searching for numpy==1.21.6\n",
            "Best match: numpy 1.21.6\n",
            "Adding numpy 1.21.6 to easy-install.pth file\n",
            "Installing f2py script to /usr/local/bin\n",
            "Installing f2py3 script to /usr/local/bin\n",
            "Installing f2py3.7 script to /usr/local/bin\n",
            "\n",
            "Using /usr/local/lib/python3.7/dist-packages\n",
            "Searching for matplotlib==3.2.2\n",
            "Best match: matplotlib 3.2.2\n",
            "Adding matplotlib 3.2.2 to easy-install.pth file\n",
            "\n",
            "Using /usr/local/lib/python3.7/dist-packages\n",
            "Searching for scikit-learn==1.0.2\n",
            "Best match: scikit-learn 1.0.2\n",
            "Adding scikit-learn 1.0.2 to easy-install.pth file\n",
            "\n",
            "Using /usr/local/lib/python3.7/dist-packages\n",
            "Searching for cycler==0.11.0\n",
            "Best match: cycler 0.11.0\n",
            "Adding cycler 0.11.0 to easy-install.pth file\n",
            "\n",
            "Using /usr/local/lib/python3.7/dist-packages\n",
            "Searching for kiwisolver==1.4.2\n",
            "Best match: kiwisolver 1.4.2\n",
            "Adding kiwisolver 1.4.2 to easy-install.pth file\n",
            "\n",
            "Using /usr/local/lib/python3.7/dist-packages\n",
            "Searching for pyparsing==3.0.9\n",
            "Best match: pyparsing 3.0.9\n",
            "Adding pyparsing 3.0.9 to easy-install.pth file\n",
            "\n",
            "Using /usr/local/lib/python3.7/dist-packages\n",
            "Searching for python-dateutil==2.8.2\n",
            "Best match: python-dateutil 2.8.2\n",
            "Adding python-dateutil 2.8.2 to easy-install.pth file\n",
            "\n",
            "Using /usr/local/lib/python3.7/dist-packages\n",
            "Searching for scipy==1.4.1\n",
            "Best match: scipy 1.4.1\n",
            "Adding scipy 1.4.1 to easy-install.pth file\n",
            "\n",
            "Using /usr/local/lib/python3.7/dist-packages\n",
            "Searching for joblib==1.1.0\n",
            "Best match: joblib 1.1.0\n",
            "Adding joblib 1.1.0 to easy-install.pth file\n",
            "\n",
            "Using /usr/local/lib/python3.7/dist-packages\n",
            "Searching for threadpoolctl==3.1.0\n",
            "Best match: threadpoolctl 3.1.0\n",
            "Adding threadpoolctl 3.1.0 to easy-install.pth file\n",
            "\n",
            "Using /usr/local/lib/python3.7/dist-packages\n",
            "Searching for typing-extensions==4.2.0\n",
            "Best match: typing-extensions 4.2.0\n",
            "Adding typing-extensions 4.2.0 to easy-install.pth file\n",
            "\n",
            "Using /usr/local/lib/python3.7/dist-packages\n",
            "Searching for six==1.15.0\n",
            "Best match: six 1.15.0\n",
            "Adding six 1.15.0 to easy-install.pth file\n",
            "\n",
            "Using /usr/local/lib/python3.7/dist-packages\n",
            "Finished processing dependencies for stability-selection==0.0.1\n"
          ]
        }
      ]
    },
    {
      "cell_type": "code",
      "source": [
        "import joblib\n",
        "import sklearn.linear_model._base\n",
        "import sys\n",
        "sys.modules['sklearn.externals.joblib'] = joblib\n",
        "sys.modules['sklearn.linear_model.base'] = sklearn.linear_model._base"
      ],
      "metadata": {
        "id": "Yg3nbeAyqP0s"
      },
      "execution_count": 11,
      "outputs": []
    },
    {
      "cell_type": "code",
      "source": [
        "from stability_selection import StabilitySelection"
      ],
      "metadata": {
        "id": "3Qs6n89dq4hh"
      },
      "execution_count": 12,
      "outputs": []
    },
    {
      "cell_type": "code",
      "source": [
        "ls = Lasso(max_iter = 10000, alpha = 0.001)\n",
        "ls.fit(X_train, y_train_logit)\n",
        "ls.coef_"
      ],
      "metadata": {
        "colab": {
          "base_uri": "https://localhost:8080/"
        },
        "id": "CYy0UoyduBr6",
        "outputId": "9a8a251d-873b-4f8e-f120-dbea7034baf5"
      },
      "execution_count": 13,
      "outputs": [
        {
          "output_type": "execute_result",
          "data": {
            "text/plain": [
              "array([-0.        , -0.        ,  0.        , -0.        , -0.        ,\n",
              "       -0.        ,  1.46894511, -0.        , -0.        , -0.        ,\n",
              "       -0.        ,  0.        ,  0.        , -0.03392929, -0.        ,\n",
              "        0.        , -0.        ,  1.42319416,  0.59196162, -0.73527282,\n",
              "        0.        ,  0.        ,  0.        ,  0.        , -0.        ,\n",
              "        0.40687818,  0.49918213,  0.        ,  0.        ,  0.        ,\n",
              "       -0.86547412,  0.        , -0.        ,  0.        , -0.        ,\n",
              "        0.        , -0.        , -0.        , -0.        ,  0.        ,\n",
              "       -0.        , -0.        ,  0.        ,  0.        ,  0.        ,\n",
              "        0.        , -0.        , -0.        , -1.98517031,  0.        ,\n",
              "       -2.57278284, -0.17690856,  0.        , -3.36528601, -1.19579816,\n",
              "       -0.        , -0.        ,  0.        , -0.        ,  0.        ,\n",
              "       -0.        ,  0.        , -0.        ,  0.        , -0.        ,\n",
              "       -0.        ,  0.        ,  0.        ,  0.        , -0.        ,\n",
              "        0.        ,  0.        , -0.        ,  0.        ,  0.        ,\n",
              "       -0.        , -0.        , -0.        ,  0.        ,  0.        ,\n",
              "       -0.        , -0.        ,  0.        , -0.        ,  0.        ,\n",
              "       -0.        , -0.        , -0.34251969,  0.        ,  0.        ,\n",
              "       -1.18987601, -0.        , -0.        , -0.87136508, -0.        ,\n",
              "        0.00661503,  0.        , -0.1607198 ,  0.        , -0.        ,\n",
              "       -0.30439743, -0.        ,  0.        , -0.        ,  1.59372992,\n",
              "        0.        ,  0.71133316, -0.        , -0.        ,  0.        ,\n",
              "        0.        ,  0.        ,  0.        , -0.        , -0.        ,\n",
              "        0.        ,  0.        ,  0.        , -0.        , -0.        ,\n",
              "       -0.        , -0.05753756,  0.        ,  0.        , -0.94371736,\n",
              "       -0.        ,  0.        , -0.        , -0.        ,  0.        ,\n",
              "       -1.53343733, -0.        , -3.05412791,  0.        , -0.        ,\n",
              "        0.        , -0.        ,  0.52000571, -0.        ,  0.        ,\n",
              "       -0.        , -0.        , -0.        ])"
            ]
          },
          "metadata": {},
          "execution_count": 13
        }
      ]
    },
    {
      "cell_type": "code",
      "source": [
        "y_pred_train = ls.predict(X_train)\n",
        "y_pred_train_correctzero = y_pred_train\n",
        "y_pred_train_correctzero[y_pred_train_correctzero < 0] = 0\n",
        "train_mae = mean_absolute_error(y_train, y_pred_train_correctzero)\n",
        "train_mae"
      ],
      "metadata": {
        "colab": {
          "base_uri": "https://localhost:8080/"
        },
        "id": "RaSF4ipsfQHp",
        "outputId": "cad0c986-2225-490c-b2d9-9fdddf919b9d"
      },
      "execution_count": 14,
      "outputs": [
        {
          "output_type": "execute_result",
          "data": {
            "text/plain": [
              "0.1756004587236497"
            ]
          },
          "metadata": {},
          "execution_count": 14
        }
      ]
    },
    {
      "cell_type": "code",
      "source": [
        "y_pred_test = ls.predict(X_test)\n",
        "y_pred_test_correctzero = y_pred_test\n",
        "y_pred_test_correctzero[y_pred_test_correctzero < 0] = 0\n",
        "test_mae = mean_absolute_error(y_test, y_pred_test_correctzero)\n",
        "test_mae"
      ],
      "metadata": {
        "colab": {
          "base_uri": "https://localhost:8080/"
        },
        "id": "PxIYIqRSfgWG",
        "outputId": "174c19f1-f89f-4430-e80b-0625255f71a7"
      },
      "execution_count": 15,
      "outputs": [
        {
          "output_type": "execute_result",
          "data": {
            "text/plain": [
              "0.3162684130100839"
            ]
          },
          "metadata": {},
          "execution_count": 15
        }
      ]
    },
    {
      "cell_type": "code",
      "source": [
        "base_estimator = Lasso(max_iter=50000, selection='random')"
      ],
      "metadata": {
        "id": "lCUee2z7sUun"
      },
      "execution_count": 16,
      "outputs": []
    },
    {
      "cell_type": "code",
      "source": [
        "selector = StabilitySelection(base_estimator = base_estimator, lambda_name = 'alpha', n_bootstrap_iterations = 1000, \\\n",
        "                              sample_fraction = 0.05, threshold = 0.9, \\\n",
        "                              lambda_grid = np.array([0.001]),\n",
        "                              random_state = 25).fit(X_train, y_train_logit)"
      ],
      "metadata": {
        "id": "lmAMKm2AqP8q"
      },
      "execution_count": 88,
      "outputs": []
    },
    {
      "cell_type": "code",
      "source": [
        "scores = pd.DataFrame(selector.stability_scores_)\n",
        "scores.sort_values(by = 0, ascending = False)"
      ],
      "metadata": {
        "colab": {
          "base_uri": "https://localhost:8080/",
          "height": 424
        },
        "id": "Bbz7lnD5KV4T",
        "outputId": "c1637959-9aa9-4117-e1d1-6d748602d677"
      },
      "execution_count": 89,
      "outputs": [
        {
          "output_type": "execute_result",
          "data": {
            "text/plain": [
              "         0\n",
              "132  0.998\n",
              "50   0.977\n",
              "53   0.960\n",
              "48   0.932\n",
              "130  0.931\n",
              "..     ...\n",
              "11   0.000\n",
              "107  0.000\n",
              "108  0.000\n",
              "111  0.000\n",
              "71   0.000\n",
              "\n",
              "[143 rows x 1 columns]"
            ],
            "text/html": [
              "\n",
              "  <div id=\"df-1cff90dd-e376-4806-bb9a-1d39a2180c8c\">\n",
              "    <div class=\"colab-df-container\">\n",
              "      <div>\n",
              "<style scoped>\n",
              "    .dataframe tbody tr th:only-of-type {\n",
              "        vertical-align: middle;\n",
              "    }\n",
              "\n",
              "    .dataframe tbody tr th {\n",
              "        vertical-align: top;\n",
              "    }\n",
              "\n",
              "    .dataframe thead th {\n",
              "        text-align: right;\n",
              "    }\n",
              "</style>\n",
              "<table border=\"1\" class=\"dataframe\">\n",
              "  <thead>\n",
              "    <tr style=\"text-align: right;\">\n",
              "      <th></th>\n",
              "      <th>0</th>\n",
              "    </tr>\n",
              "  </thead>\n",
              "  <tbody>\n",
              "    <tr>\n",
              "      <th>132</th>\n",
              "      <td>0.998</td>\n",
              "    </tr>\n",
              "    <tr>\n",
              "      <th>50</th>\n",
              "      <td>0.977</td>\n",
              "    </tr>\n",
              "    <tr>\n",
              "      <th>53</th>\n",
              "      <td>0.960</td>\n",
              "    </tr>\n",
              "    <tr>\n",
              "      <th>48</th>\n",
              "      <td>0.932</td>\n",
              "    </tr>\n",
              "    <tr>\n",
              "      <th>130</th>\n",
              "      <td>0.931</td>\n",
              "    </tr>\n",
              "    <tr>\n",
              "      <th>...</th>\n",
              "      <td>...</td>\n",
              "    </tr>\n",
              "    <tr>\n",
              "      <th>11</th>\n",
              "      <td>0.000</td>\n",
              "    </tr>\n",
              "    <tr>\n",
              "      <th>107</th>\n",
              "      <td>0.000</td>\n",
              "    </tr>\n",
              "    <tr>\n",
              "      <th>108</th>\n",
              "      <td>0.000</td>\n",
              "    </tr>\n",
              "    <tr>\n",
              "      <th>111</th>\n",
              "      <td>0.000</td>\n",
              "    </tr>\n",
              "    <tr>\n",
              "      <th>71</th>\n",
              "      <td>0.000</td>\n",
              "    </tr>\n",
              "  </tbody>\n",
              "</table>\n",
              "<p>143 rows × 1 columns</p>\n",
              "</div>\n",
              "      <button class=\"colab-df-convert\" onclick=\"convertToInteractive('df-1cff90dd-e376-4806-bb9a-1d39a2180c8c')\"\n",
              "              title=\"Convert this dataframe to an interactive table.\"\n",
              "              style=\"display:none;\">\n",
              "        \n",
              "  <svg xmlns=\"http://www.w3.org/2000/svg\" height=\"24px\"viewBox=\"0 0 24 24\"\n",
              "       width=\"24px\">\n",
              "    <path d=\"M0 0h24v24H0V0z\" fill=\"none\"/>\n",
              "    <path d=\"M18.56 5.44l.94 2.06.94-2.06 2.06-.94-2.06-.94-.94-2.06-.94 2.06-2.06.94zm-11 1L8.5 8.5l.94-2.06 2.06-.94-2.06-.94L8.5 2.5l-.94 2.06-2.06.94zm10 10l.94 2.06.94-2.06 2.06-.94-2.06-.94-.94-2.06-.94 2.06-2.06.94z\"/><path d=\"M17.41 7.96l-1.37-1.37c-.4-.4-.92-.59-1.43-.59-.52 0-1.04.2-1.43.59L10.3 9.45l-7.72 7.72c-.78.78-.78 2.05 0 2.83L4 21.41c.39.39.9.59 1.41.59.51 0 1.02-.2 1.41-.59l7.78-7.78 2.81-2.81c.8-.78.8-2.07 0-2.86zM5.41 20L4 18.59l7.72-7.72 1.47 1.35L5.41 20z\"/>\n",
              "  </svg>\n",
              "      </button>\n",
              "      \n",
              "  <style>\n",
              "    .colab-df-container {\n",
              "      display:flex;\n",
              "      flex-wrap:wrap;\n",
              "      gap: 12px;\n",
              "    }\n",
              "\n",
              "    .colab-df-convert {\n",
              "      background-color: #E8F0FE;\n",
              "      border: none;\n",
              "      border-radius: 50%;\n",
              "      cursor: pointer;\n",
              "      display: none;\n",
              "      fill: #1967D2;\n",
              "      height: 32px;\n",
              "      padding: 0 0 0 0;\n",
              "      width: 32px;\n",
              "    }\n",
              "\n",
              "    .colab-df-convert:hover {\n",
              "      background-color: #E2EBFA;\n",
              "      box-shadow: 0px 1px 2px rgba(60, 64, 67, 0.3), 0px 1px 3px 1px rgba(60, 64, 67, 0.15);\n",
              "      fill: #174EA6;\n",
              "    }\n",
              "\n",
              "    [theme=dark] .colab-df-convert {\n",
              "      background-color: #3B4455;\n",
              "      fill: #D2E3FC;\n",
              "    }\n",
              "\n",
              "    [theme=dark] .colab-df-convert:hover {\n",
              "      background-color: #434B5C;\n",
              "      box-shadow: 0px 1px 3px 1px rgba(0, 0, 0, 0.15);\n",
              "      filter: drop-shadow(0px 1px 2px rgba(0, 0, 0, 0.3));\n",
              "      fill: #FFFFFF;\n",
              "    }\n",
              "  </style>\n",
              "\n",
              "      <script>\n",
              "        const buttonEl =\n",
              "          document.querySelector('#df-1cff90dd-e376-4806-bb9a-1d39a2180c8c button.colab-df-convert');\n",
              "        buttonEl.style.display =\n",
              "          google.colab.kernel.accessAllowed ? 'block' : 'none';\n",
              "\n",
              "        async function convertToInteractive(key) {\n",
              "          const element = document.querySelector('#df-1cff90dd-e376-4806-bb9a-1d39a2180c8c');\n",
              "          const dataTable =\n",
              "            await google.colab.kernel.invokeFunction('convertToInteractive',\n",
              "                                                     [key], {});\n",
              "          if (!dataTable) return;\n",
              "\n",
              "          const docLinkHtml = 'Like what you see? Visit the ' +\n",
              "            '<a target=\"_blank\" href=https://colab.research.google.com/notebooks/data_table.ipynb>data table notebook</a>'\n",
              "            + ' to learn more about interactive tables.';\n",
              "          element.innerHTML = '';\n",
              "          dataTable['output_type'] = 'display_data';\n",
              "          await google.colab.output.renderOutput(dataTable, element);\n",
              "          const docLink = document.createElement('div');\n",
              "          docLink.innerHTML = docLinkHtml;\n",
              "          element.appendChild(docLink);\n",
              "        }\n",
              "      </script>\n",
              "    </div>\n",
              "  </div>\n",
              "  "
            ]
          },
          "metadata": {},
          "execution_count": 89
        }
      ]
    },
    {
      "cell_type": "code",
      "source": [
        "rank_index = list(scores.sort_values(by = 0, ascending = False).index)"
      ],
      "metadata": {
        "id": "NqKFfRee_IfN"
      },
      "execution_count": 90,
      "outputs": []
    },
    {
      "cell_type": "code",
      "source": [
        "X_train_one = X_train.iloc[:,rank_index[0:1]]\n",
        "X_test_one = X_test.iloc[:,rank_index[0:1]]\n",
        "X_train_two = X_train.iloc[:,rank_index[0:2]]\n",
        "X_test_two = X_test.iloc[:,rank_index[0:2]]\n",
        "X_train_three = X_train.iloc[:,rank_index[0:3]]\n",
        "X_test_three = X_test.iloc[:,rank_index[0:3]]\n",
        "X_train_four = X_train.iloc[:,rank_index[0:4]]\n",
        "X_test_four = X_test.iloc[:,rank_index[0:4]]\n",
        "X_train_five = X_train.iloc[:,rank_index[0:5]]\n",
        "X_test_five = X_test.iloc[:,rank_index[0:5]]\n",
        "X_train_six = X_train.iloc[:,rank_index[0:6]]\n",
        "X_test_six = X_test.iloc[:,rank_index[0:6]]\n",
        "X_train_seven = X_train.iloc[:,rank_index[0:7]]\n",
        "X_test_seven = X_test.iloc[:,rank_index[0:7]]\n",
        "X_train_eight = X_train.iloc[:,rank_index[0:8]]\n",
        "X_test_eight = X_test.iloc[:,rank_index[0:8]]\n",
        "X_train_nine = X_train.iloc[:,rank_index[0:9]]\n",
        "X_test_nine = X_test.iloc[:,rank_index[0:9]]\n",
        "X_train_ten = X_train.iloc[:,rank_index[0:10]]\n",
        "X_test_ten = X_test.iloc[:,rank_index[0:10]]\n",
        "X_train_eleven = X_train.iloc[:,rank_index[0:11]]\n",
        "X_test_eleven = X_test.iloc[:,rank_index[0:11]]\n",
        "X_train_twelve = X_train.iloc[:,rank_index[0:12]]\n",
        "X_test_twelve = X_test.iloc[:,rank_index[0:12]]\n",
        "X_train_thirteen = X_train.iloc[:,rank_index[0:13]]\n",
        "X_test_thirteen = X_test.iloc[:,rank_index[0:13]]\n",
        "X_train_fourteen = X_train.iloc[:,rank_index[0:14]]\n",
        "X_test_fourteen = X_test.iloc[:,rank_index[0:14]]\n",
        "X_train_fifteen = X_train.iloc[:,rank_index[0:15]]\n",
        "X_test_fifteen = X_test.iloc[:,rank_index[0:15]]\n",
        "X_train_sixteen = X_train.iloc[:,rank_index[0:16]]\n",
        "X_test_sixteen = X_test.iloc[:,rank_index[0:16]]\n",
        "X_train_seventeen = X_train.iloc[:,rank_index[0:17]]\n",
        "X_test_seventeen = X_test.iloc[:,rank_index[0:17]]\n",
        "X_train_eighteen = X_train.iloc[:,rank_index[0:18]]\n",
        "X_test_eighteen = X_test.iloc[:,rank_index[0:18]]\n",
        "X_train_nineteen = X_train.iloc[:,rank_index[0:19]]\n",
        "X_test_nineteen = X_test.iloc[:,rank_index[0:19]]\n",
        "X_train_twenty = X_train.iloc[:,rank_index[0:20]]\n",
        "X_test_twenty = X_test.iloc[:,rank_index[0:20]]"
      ],
      "metadata": {
        "id": "ulIgNojh-XR3"
      },
      "execution_count": 91,
      "outputs": []
    },
    {
      "cell_type": "code",
      "source": [
        "list_of_X_dataset = [[X_train_one, X_test_one], [X_train_two, X_test_two],\\\n",
        "                     [X_train_three, X_test_three],[X_train_four, X_test_four],\\\n",
        "                     [X_train_five, X_test_five], [X_train_six, X_test_six],\\\n",
        "                     [X_train_seven, X_test_seven], [X_train_eight, X_test_eight],\\\n",
        "                     [X_train_nine, X_test_nine], [X_train_ten, X_test_ten]]#, \\\n",
        "                     #[X_train_eleven, X_test_eleven], [X_train_twelve, X_test_twelve], \\\n",
        "                     #[X_train_thirteen, X_test_thirteen], [X_train_fourteen, X_test_fourteen], \\\n",
        "                     #[X_train_fifteen, X_test_fifteen], [X_train_sixteen, X_test_sixteen], \\\n",
        "                     #[X_train_seventeen, X_test_seventeen], [X_train_eighteen, X_test_eighteen], \\\n",
        "                     #[X_train_nineteen, X_test_nineteen], [X_train_twenty, X_test_twenty]]"
      ],
      "metadata": {
        "id": "z4zJnuV04rqQ"
      },
      "execution_count": 130,
      "outputs": []
    },
    {
      "cell_type": "code",
      "source": [
        "def generate_validation_table(list_of_X_dataset, y_train, y_test):\n",
        "  list_cv_score = []\n",
        "  list_train_mae_mean = []\n",
        "  list_test_mae_mean = []\n",
        "\n",
        "  for X_train, X_test in list_of_X_dataset:\n",
        "    sub_list_train_mae = []\n",
        "    sub_list_test_mae = []\n",
        "\n",
        "    lr = Ridge(alpha=10)\n",
        "    scores = cross_val_score(lr, X_train, y_train, cv=5, scoring='neg_mean_absolute_error')\n",
        "    list_cv_score.append(-scores.mean()*100)\n",
        "\n",
        "    lr = Ridge(alpha=10).fit(X_train, y_train)\n",
        "    y_pred_train = lr.predict(X_train)\n",
        "    y_pred_train_correctzero = y_pred_train\n",
        "    y_pred_train_correctzero[y_pred_train_correctzero < 0] = 0\n",
        "    train_mae = mean_absolute_error(y_train, y_pred_train_correctzero)\n",
        "    sub_list_train_mae.append(train_mae*100)\n",
        "\n",
        "    y_pred_test = lr.predict(X_test)\n",
        "    y_pred_test_correctzero = y_pred_test\n",
        "    y_pred_test_correctzero[y_pred_test_correctzero < 0] = 0\n",
        "    test_mae = mean_absolute_error(y_test, y_pred_test_correctzero)\n",
        "    sub_list_test_mae.append(test_mae*100)\n",
        "    \n",
        "    list_train_mae_mean.append(np.mean(sub_list_train_mae))\n",
        "    list_test_mae_mean.append(np.mean(sub_list_test_mae))\n",
        "\n",
        "  validation_table = pd.DataFrame({'cv_score': list_cv_score, 'train_mae': list_train_mae_mean, 'test_mae': list_test_mae_mean})\n",
        "  \n",
        "  fig = plt.figure()\n",
        "  x = [1, 2, 3, 4, 5, 6, 7, 8, 9, 10] #, 11, 12, 13, 14, 15, 16, 17, 18, 19, 20]\n",
        "  default_x_ticks = range(len(x))\n",
        "  plt.plot(default_x_ticks, list_cv_score, label = 'cv_score')\n",
        "  plt.plot(default_x_ticks, list_train_mae_mean, label ='train_mae')\n",
        "  plt.plot(default_x_ticks, list_test_mae_mean, label ='test_mae')\n",
        "  plt.xticks(default_x_ticks, x)\n",
        "  plt.legend(loc ='upper right')\n",
        "  plt.title('MAE of models with different number of stable features')\n",
        "  plt.show()\n",
        "  plt.savefig('MAE.png')\n",
        "\n",
        "  return validation_table"
      ],
      "metadata": {
        "id": "Ctj-bzLUzrbQ"
      },
      "execution_count": 131,
      "outputs": []
    },
    {
      "cell_type": "code",
      "source": [
        "table = generate_validation_table(list_of_X_dataset, y_train, y_test)"
      ],
      "metadata": {
        "colab": {
          "base_uri": "https://localhost:8080/",
          "height": 299
        },
        "id": "PtdgTgl0RutK",
        "outputId": "7daa7c67-6937-47e0-8501-01dcab1f5103"
      },
      "execution_count": 132,
      "outputs": [
        {
          "output_type": "display_data",
          "data": {
            "text/plain": [
              "<Figure size 432x288 with 1 Axes>"
            ],
            "image/png": "[encoded data removed]"
          },
          "metadata": {
            "needs_background": "light"
          }
        },
        {
          "output_type": "display_data",
          "data": {
            "text/plain": [
              "<Figure size 432x288 with 0 Axes>"
            ]
          },
          "metadata": {}
        }
      ]
    },
    {
      "cell_type": "code",
      "source": [
        "table"
      ],
      "metadata": {
        "colab": {
          "base_uri": "https://localhost:8080/",
          "height": 676
        },
        "id": "-qAlrOEERu0l",
        "outputId": "430c9841-7fe0-4f59-e598-875fa4320d55"
      },
      "execution_count": 113,
      "outputs": [
        {
          "output_type": "execute_result",
          "data": {
            "text/plain": [
              "     cv_score  train_mae   test_mae\n",
              "0   15.076259  14.499593  12.006458\n",
              "1    9.321926   8.130695   6.646575\n",
              "2    7.614802   6.519041   6.565987\n",
              "3    5.513240   4.778979   6.247201\n",
              "4    5.274669   4.538900   4.206096\n",
              "5    4.662886   4.085248   5.181363\n",
              "6    4.781462   4.077435   5.171336\n",
              "7    4.971531   4.041683   5.524729\n",
              "8    4.895878   3.861335   5.272912\n",
              "9    4.913966   3.883200   5.253586\n",
              "10   4.054950   3.114619   3.792329\n",
              "11   3.427299   2.569121   6.235882\n",
              "12   3.355081   2.524933   6.273909\n",
              "13   3.319315   2.467124   6.440232\n",
              "14   3.365381   2.468838   6.433472\n",
              "15   3.464149   2.468811   6.436795\n",
              "16   3.462718   2.459034   5.954020\n",
              "17   3.622705   2.461259   5.390554\n",
              "18   3.634451   2.454865   5.405965\n",
              "19   3.065121   2.138680   5.067054"
            ],
            "text/html": [
              "\n",
              "  <div id=\"df-c8e5a717-4927-4071-a2d1-6d4b23b0eff1\">\n",
              "    <div class=\"colab-df-container\">\n",
              "      <div>\n",
              "<style scoped>\n",
              "    .dataframe tbody tr th:only-of-type {\n",
              "        vertical-align: middle;\n",
              "    }\n",
              "\n",
              "    .dataframe tbody tr th {\n",
              "        vertical-align: top;\n",
              "    }\n",
              "\n",
              "    .dataframe thead th {\n",
              "        text-align: right;\n",
              "    }\n",
              "</style>\n",
              "<table border=\"1\" class=\"dataframe\">\n",
              "  <thead>\n",
              "    <tr style=\"text-align: right;\">\n",
              "      <th></th>\n",
              "      <th>cv_score</th>\n",
              "      <th>train_mae</th>\n",
              "      <th>test_mae</th>\n",
              "    </tr>\n",
              "  </thead>\n",
              "  <tbody>\n",
              "    <tr>\n",
              "      <th>0</th>\n",
              "      <td>15.076259</td>\n",
              "      <td>14.499593</td>\n",
              "      <td>12.006458</td>\n",
              "    </tr>\n",
              "    <tr>\n",
              "      <th>1</th>\n",
              "      <td>9.321926</td>\n",
              "      <td>8.130695</td>\n",
              "      <td>6.646575</td>\n",
              "    </tr>\n",
              "    <tr>\n",
              "      <th>2</th>\n",
              "      <td>7.614802</td>\n",
              "      <td>6.519041</td>\n",
              "      <td>6.565987</td>\n",
              "    </tr>\n",
              "    <tr>\n",
              "      <th>3</th>\n",
              "      <td>5.513240</td>\n",
              "      <td>4.778979</td>\n",
              "      <td>6.247201</td>\n",
              "    </tr>\n",
              "    <tr>\n",
              "      <th>4</th>\n",
              "      <td>5.274669</td>\n",
              "      <td>4.538900</td>\n",
              "      <td>4.206096</td>\n",
              "    </tr>\n",
              "    <tr>\n",
              "      <th>5</th>\n",
              "      <td>4.662886</td>\n",
              "      <td>4.085248</td>\n",
              "      <td>5.181363</td>\n",
              "    </tr>\n",
              "    <tr>\n",
              "      <th>6</th>\n",
              "      <td>4.781462</td>\n",
              "      <td>4.077435</td>\n",
              "      <td>5.171336</td>\n",
              "    </tr>\n",
              "    <tr>\n",
              "      <th>7</th>\n",
              "      <td>4.971531</td>\n",
              "      <td>4.041683</td>\n",
              "      <td>5.524729</td>\n",
              "    </tr>\n",
              "    <tr>\n",
              "      <th>8</th>\n",
              "      <td>4.895878</td>\n",
              "      <td>3.861335</td>\n",
              "      <td>5.272912</td>\n",
              "    </tr>\n",
              "    <tr>\n",
              "      <th>9</th>\n",
              "      <td>4.913966</td>\n",
              "      <td>3.883200</td>\n",
              "      <td>5.253586</td>\n",
              "    </tr>\n",
              "    <tr>\n",
              "      <th>10</th>\n",
              "      <td>4.054950</td>\n",
              "      <td>3.114619</td>\n",
              "      <td>3.792329</td>\n",
              "    </tr>\n",
              "    <tr>\n",
              "      <th>11</th>\n",
              "      <td>3.427299</td>\n",
              "      <td>2.569121</td>\n",
              "      <td>6.235882</td>\n",
              "    </tr>\n",
              "    <tr>\n",
              "      <th>12</th>\n",
              "      <td>3.355081</td>\n",
              "      <td>2.524933</td>\n",
              "      <td>6.273909</td>\n",
              "    </tr>\n",
              "    <tr>\n",
              "      <th>13</th>\n",
              "      <td>3.319315</td>\n",
              "      <td>2.467124</td>\n",
              "      <td>6.440232</td>\n",
              "    </tr>\n",
              "    <tr>\n",
              "      <th>14</th>\n",
              "      <td>3.365381</td>\n",
              "      <td>2.468838</td>\n",
              "      <td>6.433472</td>\n",
              "    </tr>\n",
              "    <tr>\n",
              "      <th>15</th>\n",
              "      <td>3.464149</td>\n",
              "      <td>2.468811</td>\n",
              "      <td>6.436795</td>\n",
              "    </tr>\n",
              "    <tr>\n",
              "      <th>16</th>\n",
              "      <td>3.462718</td>\n",
              "      <td>2.459034</td>\n",
              "      <td>5.954020</td>\n",
              "    </tr>\n",
              "    <tr>\n",
              "      <th>17</th>\n",
              "      <td>3.622705</td>\n",
              "      <td>2.461259</td>\n",
              "      <td>5.390554</td>\n",
              "    </tr>\n",
              "    <tr>\n",
              "      <th>18</th>\n",
              "      <td>3.634451</td>\n",
              "      <td>2.454865</td>\n",
              "      <td>5.405965</td>\n",
              "    </tr>\n",
              "    <tr>\n",
              "      <th>19</th>\n",
              "      <td>3.065121</td>\n",
              "      <td>2.138680</td>\n",
              "      <td>5.067054</td>\n",
              "    </tr>\n",
              "  </tbody>\n",
              "</table>\n",
              "</div>\n",
              "      <button class=\"colab-df-convert\" onclick=\"convertToInteractive('df-c8e5a717-4927-4071-a2d1-6d4b23b0eff1')\"\n",
              "              title=\"Convert this dataframe to an interactive table.\"\n",
              "              style=\"display:none;\">\n",
              "        \n",
              "  <svg xmlns=\"http://www.w3.org/2000/svg\" height=\"24px\"viewBox=\"0 0 24 24\"\n",
              "       width=\"24px\">\n",
              "    <path d=\"M0 0h24v24H0V0z\" fill=\"none\"/>\n",
              "    <path d=\"M18.56 5.44l.94 2.06.94-2.06 2.06-.94-2.06-.94-.94-2.06-.94 2.06-2.06.94zm-11 1L8.5 8.5l.94-2.06 2.06-.94-2.06-.94L8.5 2.5l-.94 2.06-2.06.94zm10 10l.94 2.06.94-2.06 2.06-.94-2.06-.94-.94-2.06-.94 2.06-2.06.94z\"/><path d=\"M17.41 7.96l-1.37-1.37c-.4-.4-.92-.59-1.43-.59-.52 0-1.04.2-1.43.59L10.3 9.45l-7.72 7.72c-.78.78-.78 2.05 0 2.83L4 21.41c.39.39.9.59 1.41.59.51 0 1.02-.2 1.41-.59l7.78-7.78 2.81-2.81c.8-.78.8-2.07 0-2.86zM5.41 20L4 18.59l7.72-7.72 1.47 1.35L5.41 20z\"/>\n",
              "  </svg>\n",
              "      </button>\n",
              "      \n",
              "  <style>\n",
              "    .colab-df-container {\n",
              "      display:flex;\n",
              "      flex-wrap:wrap;\n",
              "      gap: 12px;\n",
              "    }\n",
              "\n",
              "    .colab-df-convert {\n",
              "      background-color: #E8F0FE;\n",
              "      border: none;\n",
              "      border-radius: 50%;\n",
              "      cursor: pointer;\n",
              "      display: none;\n",
              "      fill: #1967D2;\n",
              "      height: 32px;\n",
              "      padding: 0 0 0 0;\n",
              "      width: 32px;\n",
              "    }\n",
              "\n",
              "    .colab-df-convert:hover {\n",
              "      background-color: #E2EBFA;\n",
              "      box-shadow: 0px 1px 2px rgba(60, 64, 67, 0.3), 0px 1px 3px 1px rgba(60, 64, 67, 0.15);\n",
              "      fill: #174EA6;\n",
              "    }\n",
              "\n",
              "    [theme=dark] .colab-df-convert {\n",
              "      background-color: #3B4455;\n",
              "      fill: #D2E3FC;\n",
              "    }\n",
              "\n",
              "    [theme=dark] .colab-df-convert:hover {\n",
              "      background-color: #434B5C;\n",
              "      box-shadow: 0px 1px 3px 1px rgba(0, 0, 0, 0.15);\n",
              "      filter: drop-shadow(0px 1px 2px rgba(0, 0, 0, 0.3));\n",
              "      fill: #FFFFFF;\n",
              "    }\n",
              "  </style>\n",
              "\n",
              "      <script>\n",
              "        const buttonEl =\n",
              "          document.querySelector('#df-c8e5a717-4927-4071-a2d1-6d4b23b0eff1 button.colab-df-convert');\n",
              "        buttonEl.style.display =\n",
              "          google.colab.kernel.accessAllowed ? 'block' : 'none';\n",
              "\n",
              "        async function convertToInteractive(key) {\n",
              "          const element = document.querySelector('#df-c8e5a717-4927-4071-a2d1-6d4b23b0eff1');\n",
              "          const dataTable =\n",
              "            await google.colab.kernel.invokeFunction('convertToInteractive',\n",
              "                                                     [key], {});\n",
              "          if (!dataTable) return;\n",
              "\n",
              "          const docLinkHtml = 'Like what you see? Visit the ' +\n",
              "            '<a target=\"_blank\" href=https://colab.research.google.com/notebooks/data_table.ipynb>data table notebook</a>'\n",
              "            + ' to learn more about interactive tables.';\n",
              "          element.innerHTML = '';\n",
              "          dataTable['output_type'] = 'display_data';\n",
              "          await google.colab.output.renderOutput(dataTable, element);\n",
              "          const docLink = document.createElement('div');\n",
              "          docLink.innerHTML = docLinkHtml;\n",
              "          element.appendChild(docLink);\n",
              "        }\n",
              "      </script>\n",
              "    </div>\n",
              "  </div>\n",
              "  "
            ]
          },
          "metadata": {},
          "execution_count": 113
        }
      ]
    },
    {
      "cell_type": "code",
      "source": [
        "0: 4.79\n",
        "5: 4.68\n",
        "10: 4.66\n",
        "15: 4.67\n",
        "20: 4.73\n",
        "30: 4.87"
      ],
      "metadata": {
        "id": "RVE-XFh_bsNu"
      },
      "execution_count": null,
      "outputs": []
    },
    {
      "cell_type": "code",
      "source": [
        "rg = Ridge(alpha = 10)\n",
        "rg.fit(X_train_six, y_train)"
      ],
      "metadata": {
        "id": "gB9xZMDjNcVP",
        "colab": {
          "base_uri": "https://localhost:8080/"
        },
        "outputId": "25ed2704-8086-4605-dbb9-3f4a21fd66b5"
      },
      "execution_count": 114,
      "outputs": [
        {
          "output_type": "execute_result",
          "data": {
            "text/plain": [
              "Ridge(alpha=10)"
            ]
          },
          "metadata": {},
          "execution_count": 114
        }
      ]
    },
    {
      "cell_type": "code",
      "source": [
        "rg.coef_"
      ],
      "metadata": {
        "colab": {
          "base_uri": "https://localhost:8080/"
        },
        "id": "oWWR_MMlCiqQ",
        "outputId": "e5dcac39-226a-47b8-a0e6-e237bf9a15bb"
      },
      "execution_count": 115,
      "outputs": [
        {
          "output_type": "execute_result",
          "data": {
            "text/plain": [
              "array([-0.18341061, -0.39990823, -0.27379162, -0.31457506, -0.07009802,\n",
              "       -0.19059131])"
            ]
          },
          "metadata": {},
          "execution_count": 115
        }
      ]
    },
    {
      "cell_type": "code",
      "source": [
        "y_pred_train = rg.predict(X_train_six)\n",
        "y_pred_train_correctzero = y_pred_train\n",
        "y_pred_train_correctzero[y_pred_train_correctzero < 0] = 0\n",
        "train_mae = mean_absolute_error(y_train, y_pred_train_correctzero)\n",
        "train_mae"
      ],
      "metadata": {
        "colab": {
          "base_uri": "https://localhost:8080/"
        },
        "id": "R4AQaTVFFhOK",
        "outputId": "3946a653-580f-4b54-bd25-f6de621e0e36"
      },
      "execution_count": 116,
      "outputs": [
        {
          "output_type": "execute_result",
          "data": {
            "text/plain": [
              "0.04085248322674655"
            ]
          },
          "metadata": {},
          "execution_count": 116
        }
      ]
    },
    {
      "cell_type": "code",
      "source": [
        "y_pred_test = rg.predict(X_test_six)\n",
        "y_pred_test_correctzero = y_pred_test\n",
        "y_pred_test_correctzero[y_pred_test_correctzero<0] = 0\n",
        "test_mae = mean_absolute_error(y_test, y_pred_test_correctzero)\n",
        "test_mae"
      ],
      "metadata": {
        "colab": {
          "base_uri": "https://localhost:8080/"
        },
        "id": "6FRDUFtAqWjt",
        "outputId": "b57ec153-800e-403f-e201-a43b1956a0c5"
      },
      "execution_count": 117,
      "outputs": [
        {
          "output_type": "execute_result",
          "data": {
            "text/plain": [
              "0.05181363400388225"
            ]
          },
          "metadata": {},
          "execution_count": 117
        }
      ]
    },
    {
      "cell_type": "code",
      "source": [
        "scst.pearsonr(y_pred_train, y_train)"
      ],
      "metadata": {
        "colab": {
          "base_uri": "https://localhost:8080/"
        },
        "id": "ta8PpFPGRbYO",
        "outputId": "516afa35-2876-4ee4-b06c-c1d079777616"
      },
      "execution_count": 118,
      "outputs": [
        {
          "output_type": "execute_result",
          "data": {
            "text/plain": [
              "(0.9651308180905779, 0.0)"
            ]
          },
          "metadata": {},
          "execution_count": 118
        }
      ]
    },
    {
      "cell_type": "code",
      "source": [
        "scst.pearsonr(y_pred_test, y_test)"
      ],
      "metadata": {
        "colab": {
          "base_uri": "https://localhost:8080/"
        },
        "id": "hMSZbOJ7RfSt",
        "outputId": "a5c94395-254e-4504-9b2a-c84dbd1d91ae"
      },
      "execution_count": 119,
      "outputs": [
        {
          "output_type": "execute_result",
          "data": {
            "text/plain": [
              "(0.971038349153495, 0.0)"
            ]
          },
          "metadata": {},
          "execution_count": 119
        }
      ]
    },
    {
      "cell_type": "code",
      "source": [
        "plt.plot(y_pred_train,'.')\n",
        "plt.plot(y_train,'.')"
      ],
      "metadata": {
        "colab": {
          "base_uri": "https://localhost:8080/",
          "height": 283
        },
        "id": "8Dp37CSzHOfN",
        "outputId": "ea63723a-1c3e-4b04-a408-641ec9505367"
      },
      "execution_count": 120,
      "outputs": [
        {
          "output_type": "execute_result",
          "data": {
            "text/plain": [
              "[<matplotlib.lines.Line2D at 0x7fb66fa1d510>]"
            ]
          },
          "metadata": {},
          "execution_count": 120
        },
        {
          "output_type": "display_data",
          "data": {
            "text/plain": [
              "<Figure size 432x288 with 1 Axes>"
            ],
            "image/png": "[encoded data removed]"
          },
          "metadata": {
            "needs_background": "light"
          }
        }
      ]
    },
    {
      "cell_type": "code",
      "source": [
        "plt.plot(y_pred_test,'.')\n",
        "plt.plot(y_test.reset_index()['fraction'],'.')"
      ],
      "metadata": {
        "colab": {
          "base_uri": "https://localhost:8080/",
          "height": 283
        },
        "id": "Q54gA-T2FmuW",
        "outputId": "d8638465-0f87-4e4a-d7ea-3a858b2a8f5d"
      },
      "execution_count": 121,
      "outputs": [
        {
          "output_type": "execute_result",
          "data": {
            "text/plain": [
              "[<matplotlib.lines.Line2D at 0x7fb66f1fe6d0>]"
            ]
          },
          "metadata": {},
          "execution_count": 121
        },
        {
          "output_type": "display_data",
          "data": {
            "text/plain": [
              "<Figure size 432x288 with 1 Axes>"
            ],
            "image/png": "[encoded data removed]"
          },
          "metadata": {
            "needs_background": "light"
          }
        }
      ]
    },
    {
      "cell_type": "code",
      "source": [
        "plt.plot(y_train, y_pred_train, '.')\n",
        "plt.plot([0, 0.9], [0, 0.9])"
      ],
      "metadata": {
        "colab": {
          "base_uri": "https://localhost:8080/",
          "height": 283
        },
        "id": "muPrq8YW4l5O",
        "outputId": "3588d0c5-76f6-4a52-9d3a-e0184a08ca85"
      },
      "execution_count": 122,
      "outputs": [
        {
          "output_type": "execute_result",
          "data": {
            "text/plain": [
              "[<matplotlib.lines.Line2D at 0x7fb66f742d50>]"
            ]
          },
          "metadata": {},
          "execution_count": 122
        },
        {
          "output_type": "display_data",
          "data": {
            "text/plain": [
              "<Figure size 432x288 with 1 Axes>"
            ],
            "image/png": "[encoded data removed]"
          },
          "metadata": {
            "needs_background": "light"
          }
        }
      ]
    },
    {
      "cell_type": "code",
      "source": [
        "plt.plot(y_test, y_pred_test, '.')\n",
        "plt.plot([0, 0.9], [0, 0.9])"
      ],
      "metadata": {
        "colab": {
          "base_uri": "https://localhost:8080/",
          "height": 283
        },
        "id": "D1g4Y9anSa7S",
        "outputId": "6636510e-9bc4-4b70-b846-1d7ae9e6a3d6"
      },
      "execution_count": 123,
      "outputs": [
        {
          "output_type": "execute_result",
          "data": {
            "text/plain": [
              "[<matplotlib.lines.Line2D at 0x7fb66f2aee10>]"
            ]
          },
          "metadata": {},
          "execution_count": 123
        },
        {
          "output_type": "display_data",
          "data": {
            "text/plain": [
              "<Figure size 432x288 with 1 Axes>"
            ],
            "image/png": "[encoded data removed]"
          },
          "metadata": {
            "needs_background": "light"
          }
        }
      ]
    },
    {
      "cell_type": "code",
      "source": [
        "sns.heatmap(X_train_six.corr())"
      ],
      "metadata": {
        "id": "wdhdBuQZTHQJ",
        "colab": {
          "base_uri": "https://localhost:8080/",
          "height": 412
        },
        "outputId": "8bd6b67e-bd1f-47e3-8e73-0220143b8773"
      },
      "execution_count": 124,
      "outputs": [
        {
          "output_type": "execute_result",
          "data": {
            "text/plain": [
              "<matplotlib.axes._subplots.AxesSubplot at 0x7fb66f290290>"
            ]
          },
          "metadata": {},
          "execution_count": 124
        },
        {
          "output_type": "display_data",
          "data": {
            "text/plain": [
              "<Figure size 432x288 with 2 Axes>"
            ],
            "image/png": "[encoded data removed]"
          },
          "metadata": {
            "needs_background": "light"
          }
        }
      ]
    },
    {
      "cell_type": "code",
      "source": [
        "X_train_six.corr()"
      ],
      "metadata": {
        "colab": {
          "base_uri": "https://localhost:8080/",
          "height": 386
        },
        "id": "fyO84jezN7_2",
        "outputId": "ef61bd48-7cb5-4132-acc5-99e1913eac2a"
      },
      "execution_count": 125,
      "outputs": [
        {
          "output_type": "execute_result",
          "data": {
            "text/plain": [
              "                        1_168317646-168329645  20_9717690-9729689  \\\n",
              "1_168317646-168329645                1.000000           -0.072412   \n",
              "20_9717690-9729689                  -0.072412            1.000000   \n",
              "20_60637656-60649655                 0.198470            0.270311   \n",
              "13_73812845-73824844                 0.512531            0.215790   \n",
              "13_107430239-107442238               0.502686            0.361634   \n",
              "8_52354530-52366529                 -0.212058            0.666186   \n",
              "\n",
              "                        20_60637656-60649655  13_73812845-73824844  \\\n",
              "1_168317646-168329645               0.198470              0.512531   \n",
              "20_9717690-9729689                  0.270311              0.215790   \n",
              "20_60637656-60649655                1.000000              0.341512   \n",
              "13_73812845-73824844                0.341512              1.000000   \n",
              "13_107430239-107442238              0.381153              0.632198   \n",
              "8_52354530-52366529                 0.435093              0.243546   \n",
              "\n",
              "                        13_107430239-107442238  8_52354530-52366529  \n",
              "1_168317646-168329645                 0.502686            -0.212058  \n",
              "20_9717690-9729689                    0.361634             0.666186  \n",
              "20_60637656-60649655                  0.381153             0.435093  \n",
              "13_73812845-73824844                  0.632198             0.243546  \n",
              "13_107430239-107442238                1.000000             0.425017  \n",
              "8_52354530-52366529                   0.425017             1.000000  "
            ],
            "text/html": [
              "\n",
              "  <div id=\"df-a1dbdbda-aa0c-4545-a2ac-1343c56f4ea8\">\n",
              "    <div class=\"colab-df-container\">\n",
              "      <div>\n",
              "<style scoped>\n",
              "    .dataframe tbody tr th:only-of-type {\n",
              "        vertical-align: middle;\n",
              "    }\n",
              "\n",
              "    .dataframe tbody tr th {\n",
              "        vertical-align: top;\n",
              "    }\n",
              "\n",
              "    .dataframe thead th {\n",
              "        text-align: right;\n",
              "    }\n",
              "</style>\n",
              "<table border=\"1\" class=\"dataframe\">\n",
              "  <thead>\n",
              "    <tr style=\"text-align: right;\">\n",
              "      <th></th>\n",
              "      <th>1_168317646-168329645</th>\n",
              "      <th>20_9717690-9729689</th>\n",
              "      <th>20_60637656-60649655</th>\n",
              "      <th>13_73812845-73824844</th>\n",
              "      <th>13_107430239-107442238</th>\n",
              "      <th>8_52354530-52366529</th>\n",
              "    </tr>\n",
              "  </thead>\n",
              "  <tbody>\n",
              "    <tr>\n",
              "      <th>1_168317646-168329645</th>\n",
              "      <td>1.000000</td>\n",
              "      <td>-0.072412</td>\n",
              "      <td>0.198470</td>\n",
              "      <td>0.512531</td>\n",
              "      <td>0.502686</td>\n",
              "      <td>-0.212058</td>\n",
              "    </tr>\n",
              "    <tr>\n",
              "      <th>20_9717690-9729689</th>\n",
              "      <td>-0.072412</td>\n",
              "      <td>1.000000</td>\n",
              "      <td>0.270311</td>\n",
              "      <td>0.215790</td>\n",
              "      <td>0.361634</td>\n",
              "      <td>0.666186</td>\n",
              "    </tr>\n",
              "    <tr>\n",
              "      <th>20_60637656-60649655</th>\n",
              "      <td>0.198470</td>\n",
              "      <td>0.270311</td>\n",
              "      <td>1.000000</td>\n",
              "      <td>0.341512</td>\n",
              "      <td>0.381153</td>\n",
              "      <td>0.435093</td>\n",
              "    </tr>\n",
              "    <tr>\n",
              "      <th>13_73812845-73824844</th>\n",
              "      <td>0.512531</td>\n",
              "      <td>0.215790</td>\n",
              "      <td>0.341512</td>\n",
              "      <td>1.000000</td>\n",
              "      <td>0.632198</td>\n",
              "      <td>0.243546</td>\n",
              "    </tr>\n",
              "    <tr>\n",
              "      <th>13_107430239-107442238</th>\n",
              "      <td>0.502686</td>\n",
              "      <td>0.361634</td>\n",
              "      <td>0.381153</td>\n",
              "      <td>0.632198</td>\n",
              "      <td>1.000000</td>\n",
              "      <td>0.425017</td>\n",
              "    </tr>\n",
              "    <tr>\n",
              "      <th>8_52354530-52366529</th>\n",
              "      <td>-0.212058</td>\n",
              "      <td>0.666186</td>\n",
              "      <td>0.435093</td>\n",
              "      <td>0.243546</td>\n",
              "      <td>0.425017</td>\n",
              "      <td>1.000000</td>\n",
              "    </tr>\n",
              "  </tbody>\n",
              "</table>\n",
              "</div>\n",
              "      <button class=\"colab-df-convert\" onclick=\"convertToInteractive('df-a1dbdbda-aa0c-4545-a2ac-1343c56f4ea8')\"\n",
              "              title=\"Convert this dataframe to an interactive table.\"\n",
              "              style=\"display:none;\">\n",
              "        \n",
              "  <svg xmlns=\"http://www.w3.org/2000/svg\" height=\"24px\"viewBox=\"0 0 24 24\"\n",
              "       width=\"24px\">\n",
              "    <path d=\"M0 0h24v24H0V0z\" fill=\"none\"/>\n",
              "    <path d=\"M18.56 5.44l.94 2.06.94-2.06 2.06-.94-2.06-.94-.94-2.06-.94 2.06-2.06.94zm-11 1L8.5 8.5l.94-2.06 2.06-.94-2.06-.94L8.5 2.5l-.94 2.06-2.06.94zm10 10l.94 2.06.94-2.06 2.06-.94-2.06-.94-.94-2.06-.94 2.06-2.06.94z\"/><path d=\"M17.41 7.96l-1.37-1.37c-.4-.4-.92-.59-1.43-.59-.52 0-1.04.2-1.43.59L10.3 9.45l-7.72 7.72c-.78.78-.78 2.05 0 2.83L4 21.41c.39.39.9.59 1.41.59.51 0 1.02-.2 1.41-.59l7.78-7.78 2.81-2.81c.8-.78.8-2.07 0-2.86zM5.41 20L4 18.59l7.72-7.72 1.47 1.35L5.41 20z\"/>\n",
              "  </svg>\n",
              "      </button>\n",
              "      \n",
              "  <style>\n",
              "    .colab-df-container {\n",
              "      display:flex;\n",
              "      flex-wrap:wrap;\n",
              "      gap: 12px;\n",
              "    }\n",
              "\n",
              "    .colab-df-convert {\n",
              "      background-color: #E8F0FE;\n",
              "      border: none;\n",
              "      border-radius: 50%;\n",
              "      cursor: pointer;\n",
              "      display: none;\n",
              "      fill: #1967D2;\n",
              "      height: 32px;\n",
              "      padding: 0 0 0 0;\n",
              "      width: 32px;\n",
              "    }\n",
              "\n",
              "    .colab-df-convert:hover {\n",
              "      background-color: #E2EBFA;\n",
              "      box-shadow: 0px 1px 2px rgba(60, 64, 67, 0.3), 0px 1px 3px 1px rgba(60, 64, 67, 0.15);\n",
              "      fill: #174EA6;\n",
              "    }\n",
              "\n",
              "    [theme=dark] .colab-df-convert {\n",
              "      background-color: #3B4455;\n",
              "      fill: #D2E3FC;\n",
              "    }\n",
              "\n",
              "    [theme=dark] .colab-df-convert:hover {\n",
              "      background-color: #434B5C;\n",
              "      box-shadow: 0px 1px 3px 1px rgba(0, 0, 0, 0.15);\n",
              "      filter: drop-shadow(0px 1px 2px rgba(0, 0, 0, 0.3));\n",
              "      fill: #FFFFFF;\n",
              "    }\n",
              "  </style>\n",
              "\n",
              "      <script>\n",
              "        const buttonEl =\n",
              "          document.querySelector('#df-a1dbdbda-aa0c-4545-a2ac-1343c56f4ea8 button.colab-df-convert');\n",
              "        buttonEl.style.display =\n",
              "          google.colab.kernel.accessAllowed ? 'block' : 'none';\n",
              "\n",
              "        async function convertToInteractive(key) {\n",
              "          const element = document.querySelector('#df-a1dbdbda-aa0c-4545-a2ac-1343c56f4ea8');\n",
              "          const dataTable =\n",
              "            await google.colab.kernel.invokeFunction('convertToInteractive',\n",
              "                                                     [key], {});\n",
              "          if (!dataTable) return;\n",
              "\n",
              "          const docLinkHtml = 'Like what you see? Visit the ' +\n",
              "            '<a target=\"_blank\" href=https://colab.research.google.com/notebooks/data_table.ipynb>data table notebook</a>'\n",
              "            + ' to learn more about interactive tables.';\n",
              "          element.innerHTML = '';\n",
              "          dataTable['output_type'] = 'display_data';\n",
              "          await google.colab.output.renderOutput(dataTable, element);\n",
              "          const docLink = document.createElement('div');\n",
              "          docLink.innerHTML = docLinkHtml;\n",
              "          element.appendChild(docLink);\n",
              "        }\n",
              "      </script>\n",
              "    </div>\n",
              "  </div>\n",
              "  "
            ]
          },
          "metadata": {},
          "execution_count": 125
        }
      ]
    },
    {
      "cell_type": "code",
      "source": [
        "from statsmodels.stats.outliers_influence import variance_inflation_factor"
      ],
      "metadata": {
        "colab": {
          "base_uri": "https://localhost:8080/"
        },
        "id": "XsXue_VqKkie",
        "outputId": "da11fa38-0b63-4f4d-b8a0-ea6f6d2b5b39"
      },
      "execution_count": 134,
      "outputs": [
        {
          "output_type": "stream",
          "name": "stderr",
          "text": [
            "/usr/local/lib/python3.7/dist-packages/statsmodels/tools/_testing.py:19: FutureWarning: pandas.util.testing is deprecated. Use the functions in the public API at pandas.testing instead.\n",
            "  import pandas.util.testing as tm\n"
          ]
        }
      ]
    },
    {
      "cell_type": "code",
      "source": [
        "vif_data = pd.DataFrame()\n",
        "vif_data[\"feature\"] = X_train_six.columns\n",
        "vif_data[\"VIF\"] = [variance_inflation_factor(X_train_six.values, i)\n",
        "                          for i in range(len(X_train_six.columns))]"
      ],
      "metadata": {
        "id": "VzV84au1Kk8R"
      },
      "execution_count": 135,
      "outputs": []
    },
    {
      "cell_type": "code",
      "source": [
        "vif_data"
      ],
      "metadata": {
        "colab": {
          "base_uri": "https://localhost:8080/",
          "height": 237
        },
        "id": "C4DFZryhKrAF",
        "outputId": "0aefc268-78bb-4321-d1a4-f3859dcac880"
      },
      "execution_count": 136,
      "outputs": [
        {
          "output_type": "execute_result",
          "data": {
            "text/plain": [
              "                  feature         VIF\n",
              "0   1_168317646-168329645   71.938247\n",
              "1      20_9717690-9729689   40.192183\n",
              "2    20_60637656-60649655   61.765206\n",
              "3    13_73812845-73824844   49.206479\n",
              "4  13_107430239-107442238  142.545364\n",
              "5     8_52354530-52366529   51.328908"
            ],
            "text/html": [
              "\n",
              "  <div id=\"df-ae8d5070-19ad-400c-8bc2-3132b9f1c8f1\">\n",
              "    <div class=\"colab-df-container\">\n",
              "      <div>\n",
              "<style scoped>\n",
              "    .dataframe tbody tr th:only-of-type {\n",
              "        vertical-align: middle;\n",
              "    }\n",
              "\n",
              "    .dataframe tbody tr th {\n",
              "        vertical-align: top;\n",
              "    }\n",
              "\n",
              "    .dataframe thead th {\n",
              "        text-align: right;\n",
              "    }\n",
              "</style>\n",
              "<table border=\"1\" class=\"dataframe\">\n",
              "  <thead>\n",
              "    <tr style=\"text-align: right;\">\n",
              "      <th></th>\n",
              "      <th>feature</th>\n",
              "      <th>VIF</th>\n",
              "    </tr>\n",
              "  </thead>\n",
              "  <tbody>\n",
              "    <tr>\n",
              "      <th>0</th>\n",
              "      <td>1_168317646-168329645</td>\n",
              "      <td>71.938247</td>\n",
              "    </tr>\n",
              "    <tr>\n",
              "      <th>1</th>\n",
              "      <td>20_9717690-9729689</td>\n",
              "      <td>40.192183</td>\n",
              "    </tr>\n",
              "    <tr>\n",
              "      <th>2</th>\n",
              "      <td>20_60637656-60649655</td>\n",
              "      <td>61.765206</td>\n",
              "    </tr>\n",
              "    <tr>\n",
              "      <th>3</th>\n",
              "      <td>13_73812845-73824844</td>\n",
              "      <td>49.206479</td>\n",
              "    </tr>\n",
              "    <tr>\n",
              "      <th>4</th>\n",
              "      <td>13_107430239-107442238</td>\n",
              "      <td>142.545364</td>\n",
              "    </tr>\n",
              "    <tr>\n",
              "      <th>5</th>\n",
              "      <td>8_52354530-52366529</td>\n",
              "      <td>51.328908</td>\n",
              "    </tr>\n",
              "  </tbody>\n",
              "</table>\n",
              "</div>\n",
              "      <button class=\"colab-df-convert\" onclick=\"convertToInteractive('df-ae8d5070-19ad-400c-8bc2-3132b9f1c8f1')\"\n",
              "              title=\"Convert this dataframe to an interactive table.\"\n",
              "              style=\"display:none;\">\n",
              "        \n",
              "  <svg xmlns=\"http://www.w3.org/2000/svg\" height=\"24px\"viewBox=\"0 0 24 24\"\n",
              "       width=\"24px\">\n",
              "    <path d=\"M0 0h24v24H0V0z\" fill=\"none\"/>\n",
              "    <path d=\"M18.56 5.44l.94 2.06.94-2.06 2.06-.94-2.06-.94-.94-2.06-.94 2.06-2.06.94zm-11 1L8.5 8.5l.94-2.06 2.06-.94-2.06-.94L8.5 2.5l-.94 2.06-2.06.94zm10 10l.94 2.06.94-2.06 2.06-.94-2.06-.94-.94-2.06-.94 2.06-2.06.94z\"/><path d=\"M17.41 7.96l-1.37-1.37c-.4-.4-.92-.59-1.43-.59-.52 0-1.04.2-1.43.59L10.3 9.45l-7.72 7.72c-.78.78-.78 2.05 0 2.83L4 21.41c.39.39.9.59 1.41.59.51 0 1.02-.2 1.41-.59l7.78-7.78 2.81-2.81c.8-.78.8-2.07 0-2.86zM5.41 20L4 18.59l7.72-7.72 1.47 1.35L5.41 20z\"/>\n",
              "  </svg>\n",
              "      </button>\n",
              "      \n",
              "  <style>\n",
              "    .colab-df-container {\n",
              "      display:flex;\n",
              "      flex-wrap:wrap;\n",
              "      gap: 12px;\n",
              "    }\n",
              "\n",
              "    .colab-df-convert {\n",
              "      background-color: #E8F0FE;\n",
              "      border: none;\n",
              "      border-radius: 50%;\n",
              "      cursor: pointer;\n",
              "      display: none;\n",
              "      fill: #1967D2;\n",
              "      height: 32px;\n",
              "      padding: 0 0 0 0;\n",
              "      width: 32px;\n",
              "    }\n",
              "\n",
              "    .colab-df-convert:hover {\n",
              "      background-color: #E2EBFA;\n",
              "      box-shadow: 0px 1px 2px rgba(60, 64, 67, 0.3), 0px 1px 3px 1px rgba(60, 64, 67, 0.15);\n",
              "      fill: #174EA6;\n",
              "    }\n",
              "\n",
              "    [theme=dark] .colab-df-convert {\n",
              "      background-color: #3B4455;\n",
              "      fill: #D2E3FC;\n",
              "    }\n",
              "\n",
              "    [theme=dark] .colab-df-convert:hover {\n",
              "      background-color: #434B5C;\n",
              "      box-shadow: 0px 1px 3px 1px rgba(0, 0, 0, 0.15);\n",
              "      filter: drop-shadow(0px 1px 2px rgba(0, 0, 0, 0.3));\n",
              "      fill: #FFFFFF;\n",
              "    }\n",
              "  </style>\n",
              "\n",
              "      <script>\n",
              "        const buttonEl =\n",
              "          document.querySelector('#df-ae8d5070-19ad-400c-8bc2-3132b9f1c8f1 button.colab-df-convert');\n",
              "        buttonEl.style.display =\n",
              "          google.colab.kernel.accessAllowed ? 'block' : 'none';\n",
              "\n",
              "        async function convertToInteractive(key) {\n",
              "          const element = document.querySelector('#df-ae8d5070-19ad-400c-8bc2-3132b9f1c8f1');\n",
              "          const dataTable =\n",
              "            await google.colab.kernel.invokeFunction('convertToInteractive',\n",
              "                                                     [key], {});\n",
              "          if (!dataTable) return;\n",
              "\n",
              "          const docLinkHtml = 'Like what you see? Visit the ' +\n",
              "            '<a target=\"_blank\" href=https://colab.research.google.com/notebooks/data_table.ipynb>data table notebook</a>'\n",
              "            + ' to learn more about interactive tables.';\n",
              "          element.innerHTML = '';\n",
              "          dataTable['output_type'] = 'display_data';\n",
              "          await google.colab.output.renderOutput(dataTable, element);\n",
              "          const docLink = document.createElement('div');\n",
              "          docLink.innerHTML = docLinkHtml;\n",
              "          element.appendChild(docLink);\n",
              "        }\n",
              "      </script>\n",
              "    </div>\n",
              "  </div>\n",
              "  "
            ]
          },
          "metadata": {},
          "execution_count": 136
        }
      ]
    },
    {
      "cell_type": "code",
      "source": [
        ""
      ],
      "metadata": {
        "id": "uXiiRjKhKseM"
      },
      "execution_count": null,
      "outputs": []
    }
  ]
}