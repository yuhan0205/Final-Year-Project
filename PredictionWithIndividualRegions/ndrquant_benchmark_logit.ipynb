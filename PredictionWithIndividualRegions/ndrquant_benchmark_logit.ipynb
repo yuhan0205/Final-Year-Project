{
 "cells": [
  {
   "cell_type": "code",
   "execution_count": 1,
   "id": "4946b526",
   "metadata": {},
   "outputs": [],
   "source": [
    "import numpy as np\n",
    "import pandas as pd\n",
    "import matplotlib.pyplot as plt\n",
    "import scipy.stats as scst\n",
    "from sklearn.linear_model import LinearRegression, Lasso\n",
    "from sklearn.model_selection import GridSearchCV\n",
    "from sklearn.metrics import mean_absolute_error\n",
    "from scipy.special import logit, expit"
   ]
  },
  {
   "cell_type": "code",
   "execution_count": 2,
   "id": "2b456eba",
   "metadata": {},
   "outputs": [],
   "source": [
    "train_df = pd.read_csv('train_benchmark.csv')\n",
    "test_df = pd.read_csv('test_benchmark.csv')"
   ]
  },
  {
   "cell_type": "code",
   "execution_count": 3,
   "id": "7062f40f",
   "metadata": {},
   "outputs": [
    {
     "data": {
      "text/html": [
       "<div>\n",
       "<style scoped>\n",
       "    .dataframe tbody tr th:only-of-type {\n",
       "        vertical-align: middle;\n",
       "    }\n",
       "\n",
       "    .dataframe tbody tr th {\n",
       "        vertical-align: top;\n",
       "    }\n",
       "\n",
       "    .dataframe thead th {\n",
       "        text-align: right;\n",
       "    }\n",
       "</style>\n",
       "<table border=\"1\" class=\"dataframe\">\n",
       "  <thead>\n",
       "    <tr style=\"text-align: right;\">\n",
       "      <th></th>\n",
       "      <th>Unnamed: 0</th>\n",
       "      <th>1_156028951-156032951</th>\n",
       "      <th>19_838960-842960</th>\n",
       "      <th>19_35737922-35741922</th>\n",
       "      <th>19_41080891-41084891</th>\n",
       "      <th>4_185745070-185749070</th>\n",
       "      <th>16_75283369-75287369</th>\n",
       "      <th>fraction</th>\n",
       "      <th>file_origin</th>\n",
       "    </tr>\n",
       "  </thead>\n",
       "  <tbody>\n",
       "    <tr>\n",
       "      <th>450</th>\n",
       "      <td>450</td>\n",
       "      <td>1.089253</td>\n",
       "      <td>1.250069</td>\n",
       "      <td>1.037599</td>\n",
       "      <td>0.248873</td>\n",
       "      <td>0.269718</td>\n",
       "      <td>0.699503</td>\n",
       "      <td>0.000</td>\n",
       "      <td>512_051015570</td>\n",
       "    </tr>\n",
       "    <tr>\n",
       "      <th>451</th>\n",
       "      <td>451</td>\n",
       "      <td>1.086535</td>\n",
       "      <td>1.249794</td>\n",
       "      <td>1.035817</td>\n",
       "      <td>0.249363</td>\n",
       "      <td>0.269641</td>\n",
       "      <td>0.697885</td>\n",
       "      <td>0.005</td>\n",
       "      <td>512_051015570</td>\n",
       "    </tr>\n",
       "    <tr>\n",
       "      <th>452</th>\n",
       "      <td>452</td>\n",
       "      <td>1.083806</td>\n",
       "      <td>1.249519</td>\n",
       "      <td>1.034025</td>\n",
       "      <td>0.249856</td>\n",
       "      <td>0.269564</td>\n",
       "      <td>0.696259</td>\n",
       "      <td>0.010</td>\n",
       "      <td>512_051015570</td>\n",
       "    </tr>\n",
       "    <tr>\n",
       "      <th>453</th>\n",
       "      <td>453</td>\n",
       "      <td>1.081064</td>\n",
       "      <td>1.249243</td>\n",
       "      <td>1.032220</td>\n",
       "      <td>0.250352</td>\n",
       "      <td>0.269487</td>\n",
       "      <td>0.694623</td>\n",
       "      <td>0.015</td>\n",
       "      <td>512_051015570</td>\n",
       "    </tr>\n",
       "    <tr>\n",
       "      <th>454</th>\n",
       "      <td>454</td>\n",
       "      <td>1.078309</td>\n",
       "      <td>1.248966</td>\n",
       "      <td>1.030405</td>\n",
       "      <td>0.250851</td>\n",
       "      <td>0.269409</td>\n",
       "      <td>0.692979</td>\n",
       "      <td>0.020</td>\n",
       "      <td>512_051015570</td>\n",
       "    </tr>\n",
       "    <tr>\n",
       "      <th>...</th>\n",
       "      <td>...</td>\n",
       "      <td>...</td>\n",
       "      <td>...</td>\n",
       "      <td>...</td>\n",
       "      <td>...</td>\n",
       "      <td>...</td>\n",
       "      <td>...</td>\n",
       "      <td>...</td>\n",
       "      <td>...</td>\n",
       "    </tr>\n",
       "    <tr>\n",
       "      <th>697</th>\n",
       "      <td>697</td>\n",
       "      <td>0.790787</td>\n",
       "      <td>1.171080</td>\n",
       "      <td>0.930378</td>\n",
       "      <td>0.403486</td>\n",
       "      <td>0.229104</td>\n",
       "      <td>0.559976</td>\n",
       "      <td>0.300</td>\n",
       "      <td>512_130114572</td>\n",
       "    </tr>\n",
       "    <tr>\n",
       "      <th>698</th>\n",
       "      <td>698</td>\n",
       "      <td>0.766478</td>\n",
       "      <td>1.208249</td>\n",
       "      <td>0.883794</td>\n",
       "      <td>0.413806</td>\n",
       "      <td>0.237465</td>\n",
       "      <td>0.532307</td>\n",
       "      <td>0.325</td>\n",
       "      <td>512_130114572</td>\n",
       "    </tr>\n",
       "    <tr>\n",
       "      <th>699</th>\n",
       "      <td>699</td>\n",
       "      <td>0.740663</td>\n",
       "      <td>1.246864</td>\n",
       "      <td>0.833704</td>\n",
       "      <td>0.424742</td>\n",
       "      <td>0.246240</td>\n",
       "      <td>0.502804</td>\n",
       "      <td>0.350</td>\n",
       "      <td>512_130114572</td>\n",
       "    </tr>\n",
       "    <tr>\n",
       "      <th>700</th>\n",
       "      <td>700</td>\n",
       "      <td>0.713198</td>\n",
       "      <td>1.287010</td>\n",
       "      <td>0.779696</td>\n",
       "      <td>0.436352</td>\n",
       "      <td>0.255461</td>\n",
       "      <td>0.471280</td>\n",
       "      <td>0.375</td>\n",
       "      <td>512_130114572</td>\n",
       "    </tr>\n",
       "    <tr>\n",
       "      <th>701</th>\n",
       "      <td>701</td>\n",
       "      <td>0.691122</td>\n",
       "      <td>1.318602</td>\n",
       "      <td>0.735739</td>\n",
       "      <td>0.445665</td>\n",
       "      <td>0.262788</td>\n",
       "      <td>0.445838</td>\n",
       "      <td>0.394</td>\n",
       "      <td>512_130114572</td>\n",
       "    </tr>\n",
       "  </tbody>\n",
       "</table>\n",
       "<p>177 rows × 9 columns</p>\n",
       "</div>"
      ],
      "text/plain": [
       "     Unnamed: 0  1_156028951-156032951  19_838960-842960  \\\n",
       "450         450               1.089253          1.250069   \n",
       "451         451               1.086535          1.249794   \n",
       "452         452               1.083806          1.249519   \n",
       "453         453               1.081064          1.249243   \n",
       "454         454               1.078309          1.248966   \n",
       "..          ...                    ...               ...   \n",
       "697         697               0.790787          1.171080   \n",
       "698         698               0.766478          1.208249   \n",
       "699         699               0.740663          1.246864   \n",
       "700         700               0.713198          1.287010   \n",
       "701         701               0.691122          1.318602   \n",
       "\n",
       "     19_35737922-35741922  19_41080891-41084891  4_185745070-185749070  \\\n",
       "450              1.037599              0.248873               0.269718   \n",
       "451              1.035817              0.249363               0.269641   \n",
       "452              1.034025              0.249856               0.269564   \n",
       "453              1.032220              0.250352               0.269487   \n",
       "454              1.030405              0.250851               0.269409   \n",
       "..                    ...                   ...                    ...   \n",
       "697              0.930378              0.403486               0.229104   \n",
       "698              0.883794              0.413806               0.237465   \n",
       "699              0.833704              0.424742               0.246240   \n",
       "700              0.779696              0.436352               0.255461   \n",
       "701              0.735739              0.445665               0.262788   \n",
       "\n",
       "     16_75283369-75287369  fraction    file_origin  \n",
       "450              0.699503     0.000  512_051015570  \n",
       "451              0.697885     0.005  512_051015570  \n",
       "452              0.696259     0.010  512_051015570  \n",
       "453              0.694623     0.015  512_051015570  \n",
       "454              0.692979     0.020  512_051015570  \n",
       "..                    ...       ...            ...  \n",
       "697              0.559976     0.300  512_130114572  \n",
       "698              0.532307     0.325  512_130114572  \n",
       "699              0.502804     0.350  512_130114572  \n",
       "700              0.471280     0.375  512_130114572  \n",
       "701              0.445838     0.394  512_130114572  \n",
       "\n",
       "[177 rows x 9 columns]"
      ]
     },
     "execution_count": 3,
     "metadata": {},
     "output_type": "execute_result"
    }
   ],
   "source": [
    "new_test_df = pd.concat([test_df[test_df['file_origin'] == '512_051015570'], \\\n",
    "                         test_df[test_df['file_origin'] == '512_051015571'], \\\n",
    "                         test_df[test_df['file_origin'] == '512_051015572'], \\\n",
    "                         test_df[test_df['file_origin'] == '512_130114570'], \\\n",
    "                         test_df[test_df['file_origin'] == '512_130114571'], \\\n",
    "                         test_df[test_df['file_origin'] == '512_130114572']])\n",
    "new_test_df"
   ]
  },
  {
   "cell_type": "code",
   "execution_count": 4,
   "id": "f3b1f819",
   "metadata": {},
   "outputs": [],
   "source": [
    "X_train = train_df.drop(['Unnamed: 0', 'fraction', 'file_origin'], axis = 1)\n",
    "y_train = train_df['fraction']\n",
    "X_test = new_test_df.drop(['Unnamed: 0', 'fraction', 'file_origin'], axis = 1)\n",
    "y_test =  new_test_df['fraction']"
   ]
  },
  {
   "cell_type": "code",
   "execution_count": 17,
   "id": "773746d0",
   "metadata": {},
   "outputs": [],
   "source": [
    "y_train_t = logit(y_train + 0.05)\n",
    "y_test_t = logit(y_test + 0.05)"
   ]
  },
  {
   "cell_type": "code",
   "execution_count": 18,
   "id": "7d7fefde",
   "metadata": {
    "scrolled": true
   },
   "outputs": [
    {
     "name": "stdout",
     "output_type": "stream",
     "text": [
      "Fitting 10 folds for each of 10 candidates, totalling 100 fits\n",
      "[CV 1/10; 1/10] START alpha=0.001...............................................\n",
      "[CV 1/10; 1/10] END ...............alpha=0.001;, score=-0.504 total time=   0.0s\n",
      "[CV 2/10; 1/10] START alpha=0.001...............................................\n",
      "[CV 2/10; 1/10] END ...............alpha=0.001;, score=-0.292 total time=   0.0s\n",
      "[CV 3/10; 1/10] START alpha=0.001...............................................\n",
      "[CV 3/10; 1/10] END ...............alpha=0.001;, score=-0.324 total time=   0.0s\n",
      "[CV 4/10; 1/10] START alpha=0.001...............................................\n",
      "[CV 4/10; 1/10] END ...............alpha=0.001;, score=-0.332 total time=   0.0s\n",
      "[CV 5/10; 1/10] START alpha=0.001...............................................\n",
      "[CV 5/10; 1/10] END ...............alpha=0.001;, score=-0.528 total time=   0.0s\n",
      "[CV 6/10; 1/10] START alpha=0.001...............................................\n",
      "[CV 6/10; 1/10] END ...............alpha=0.001;, score=-0.550 total time=   0.0s\n",
      "[CV 7/10; 1/10] START alpha=0.001...............................................\n",
      "[CV 7/10; 1/10] END ...............alpha=0.001;, score=-0.425 total time=   0.0s\n",
      "[CV 8/10; 1/10] START alpha=0.001...............................................\n",
      "[CV 8/10; 1/10] END ...............alpha=0.001;, score=-0.375 total time=   0.0s\n",
      "[CV 9/10; 1/10] START alpha=0.001...............................................\n",
      "[CV 9/10; 1/10] END ...............alpha=0.001;, score=-0.569 total time=   0.0s\n",
      "[CV 10/10; 1/10] START alpha=0.001..............................................\n",
      "[CV 10/10; 1/10] END ..............alpha=0.001;, score=-0.431 total time=   0.0s\n",
      "[CV 1/10; 2/10] START alpha=0.002...............................................\n",
      "[CV 1/10; 2/10] END ...............alpha=0.002;, score=-0.489 total time=   0.0s\n",
      "[CV 2/10; 2/10] START alpha=0.002...............................................\n",
      "[CV 2/10; 2/10] END ...............alpha=0.002;, score=-0.290 total time=   0.0s\n",
      "[CV 3/10; 2/10] START alpha=0.002...............................................\n",
      "[CV 3/10; 2/10] END ...............alpha=0.002;, score=-0.319 total time=   0.0s\n",
      "[CV 4/10; 2/10] START alpha=0.002...............................................\n",
      "[CV 4/10; 2/10] END ...............alpha=0.002;, score=-0.332 total time=   0.0s\n",
      "[CV 5/10; 2/10] START alpha=0.002...............................................\n",
      "[CV 5/10; 2/10] END ...............alpha=0.002;, score=-0.534 total time=   0.0s\n",
      "[CV 6/10; 2/10] START alpha=0.002...............................................\n",
      "[CV 6/10; 2/10] END ...............alpha=0.002;, score=-0.547 total time=   0.0s\n",
      "[CV 7/10; 2/10] START alpha=0.002...............................................\n",
      "[CV 7/10; 2/10] END ...............alpha=0.002;, score=-0.426 total time=   0.0s\n",
      "[CV 8/10; 2/10] START alpha=0.002...............................................\n",
      "[CV 8/10; 2/10] END ...............alpha=0.002;, score=-0.375 total time=   0.0s\n",
      "[CV 9/10; 2/10] START alpha=0.002...............................................\n",
      "[CV 9/10; 2/10] END ...............alpha=0.002;, score=-0.569 total time=   0.0s\n",
      "[CV 10/10; 2/10] START alpha=0.002..............................................\n",
      "[CV 10/10; 2/10] END ..............alpha=0.002;, score=-0.434 total time=   0.0s\n",
      "[CV 1/10; 3/10] START alpha=0.003...............................................\n",
      "[CV 1/10; 3/10] END ...............alpha=0.003;, score=-0.474 total time=   0.0s\n",
      "[CV 2/10; 3/10] START alpha=0.003...............................................\n",
      "[CV 2/10; 3/10] END ...............alpha=0.003;, score=-0.291 total time=   0.0s\n",
      "[CV 3/10; 3/10] START alpha=0.003...............................................\n",
      "[CV 3/10; 3/10] END ...............alpha=0.003;, score=-0.314 total time=   0.0s\n",
      "[CV 4/10; 3/10] START alpha=0.003...............................................\n",
      "[CV 4/10; 3/10] END ...............alpha=0.003;, score=-0.333 total time=   0.0s\n",
      "[CV 5/10; 3/10] START alpha=0.003...............................................\n",
      "[CV 5/10; 3/10] END ...............alpha=0.003;, score=-0.541 total time=   0.0s\n",
      "[CV 6/10; 3/10] START alpha=0.003...............................................\n",
      "[CV 6/10; 3/10] END ...............alpha=0.003;, score=-0.544 total time=   0.0s\n",
      "[CV 7/10; 3/10] START alpha=0.003...............................................\n",
      "[CV 7/10; 3/10] END ...............alpha=0.003;, score=-0.428 total time=   0.0s\n",
      "[CV 8/10; 3/10] START alpha=0.003...............................................\n",
      "[CV 8/10; 3/10] END ...............alpha=0.003;, score=-0.376 total time=   0.0s\n",
      "[CV 9/10; 3/10] START alpha=0.003...............................................\n",
      "[CV 9/10; 3/10] END ...............alpha=0.003;, score=-0.569 total time=   0.0s\n",
      "[CV 10/10; 3/10] START alpha=0.003..............................................\n",
      "[CV 10/10; 3/10] END ..............alpha=0.003;, score=-0.439 total time=   0.0s\n",
      "[CV 1/10; 4/10] START alpha=0.004...............................................\n",
      "[CV 1/10; 4/10] END ...............alpha=0.004;, score=-0.461 total time=   0.0s\n",
      "[CV 2/10; 4/10] START alpha=0.004...............................................\n",
      "[CV 2/10; 4/10] END ...............alpha=0.004;, score=-0.294 total time=   0.0s\n",
      "[CV 3/10; 4/10] START alpha=0.004...............................................\n",
      "[CV 3/10; 4/10] END ...............alpha=0.004;, score=-0.313 total time=   0.0s\n",
      "[CV 4/10; 4/10] START alpha=0.004...............................................\n",
      "[CV 4/10; 4/10] END ...............alpha=0.004;, score=-0.336 total time=   0.0s\n",
      "[CV 5/10; 4/10] START alpha=0.004...............................................\n",
      "[CV 5/10; 4/10] END ...............alpha=0.004;, score=-0.549 total time=   0.0s\n",
      "[CV 6/10; 4/10] START alpha=0.004...............................................\n",
      "[CV 6/10; 4/10] END ...............alpha=0.004;, score=-0.542 total time=   0.0s\n",
      "[CV 7/10; 4/10] START alpha=0.004...............................................\n",
      "[CV 7/10; 4/10] END ...............alpha=0.004;, score=-0.431 total time=   0.0s\n",
      "[CV 8/10; 4/10] START alpha=0.004...............................................\n",
      "[CV 8/10; 4/10] END ...............alpha=0.004;, score=-0.378 total time=   0.0s\n",
      "[CV 9/10; 4/10] START alpha=0.004...............................................\n",
      "[CV 9/10; 4/10] END ...............alpha=0.004;, score=-0.570 total time=   0.0s\n",
      "[CV 10/10; 4/10] START alpha=0.004..............................................\n",
      "[CV 10/10; 4/10] END ..............alpha=0.004;, score=-0.443 total time=   0.0s\n",
      "[CV 1/10; 5/10] START alpha=0.005...............................................\n",
      "[CV 1/10; 5/10] END ...............alpha=0.005;, score=-0.449 total time=   0.0s\n",
      "[CV 2/10; 5/10] START alpha=0.005...............................................\n",
      "[CV 2/10; 5/10] END ...............alpha=0.005;, score=-0.299 total time=   0.0s\n",
      "[CV 3/10; 5/10] START alpha=0.005...............................................\n",
      "[CV 3/10; 5/10] END ...............alpha=0.005;, score=-0.314 total time=   0.0s\n",
      "[CV 4/10; 5/10] START alpha=0.005...............................................\n",
      "[CV 4/10; 5/10] END ...............alpha=0.005;, score=-0.343 total time=   0.0s\n",
      "[CV 5/10; 5/10] START alpha=0.005...............................................\n",
      "[CV 5/10; 5/10] END ...............alpha=0.005;, score=-0.559 total time=   0.0s\n",
      "[CV 6/10; 5/10] START alpha=0.005...............................................\n",
      "[CV 6/10; 5/10] END ...............alpha=0.005;, score=-0.540 total time=   0.0s\n",
      "[CV 7/10; 5/10] START alpha=0.005...............................................\n",
      "[CV 7/10; 5/10] END ...............alpha=0.005;, score=-0.436 total time=   0.0s\n",
      "[CV 8/10; 5/10] START alpha=0.005...............................................\n",
      "[CV 8/10; 5/10] END ...............alpha=0.005;, score=-0.381 total time=   0.0s\n",
      "[CV 9/10; 5/10] START alpha=0.005...............................................\n",
      "[CV 9/10; 5/10] END ...............alpha=0.005;, score=-0.571 total time=   0.0s\n",
      "[CV 10/10; 5/10] START alpha=0.005..............................................\n",
      "[CV 10/10; 5/10] END ..............alpha=0.005;, score=-0.449 total time=   0.0s\n",
      "[CV 1/10; 6/10] START alpha=0.006...............................................\n",
      "[CV 1/10; 6/10] END ...............alpha=0.006;, score=-0.438 total time=   0.0s\n",
      "[CV 2/10; 6/10] START alpha=0.006...............................................\n",
      "[CV 2/10; 6/10] END ...............alpha=0.006;, score=-0.308 total time=   0.0s\n",
      "[CV 3/10; 6/10] START alpha=0.006...............................................\n",
      "[CV 3/10; 6/10] END ...............alpha=0.006;, score=-0.316 total time=   0.0s\n",
      "[CV 4/10; 6/10] START alpha=0.006...............................................\n",
      "[CV 4/10; 6/10] END ...............alpha=0.006;, score=-0.357 total time=   0.0s\n",
      "[CV 5/10; 6/10] START alpha=0.006...............................................\n",
      "[CV 5/10; 6/10] END ...............alpha=0.006;, score=-0.569 total time=   0.0s\n",
      "[CV 6/10; 6/10] START alpha=0.006...............................................\n",
      "[CV 6/10; 6/10] END ...............alpha=0.006;, score=-0.540 total time=   0.0s\n",
      "[CV 7/10; 6/10] START alpha=0.006...............................................\n",
      "[CV 7/10; 6/10] END ...............alpha=0.006;, score=-0.440 total time=   0.0s\n",
      "[CV 8/10; 6/10] START alpha=0.006...............................................\n",
      "[CV 8/10; 6/10] END ...............alpha=0.006;, score=-0.386 total time=   0.0s\n",
      "[CV 9/10; 6/10] START alpha=0.006...............................................\n",
      "[CV 9/10; 6/10] END ...............alpha=0.006;, score=-0.573 total time=   0.0s\n",
      "[CV 10/10; 6/10] START alpha=0.006..............................................\n",
      "[CV 10/10; 6/10] END ..............alpha=0.006;, score=-0.455 total time=   0.0s\n",
      "[CV 1/10; 7/10] START alpha=0.007...............................................\n",
      "[CV 1/10; 7/10] END ...............alpha=0.007;, score=-0.428 total time=   0.0s\n",
      "[CV 2/10; 7/10] START alpha=0.007...............................................\n",
      "[CV 2/10; 7/10] END ...............alpha=0.007;, score=-0.318 total time=   0.0s\n",
      "[CV 3/10; 7/10] START alpha=0.007...............................................\n"
     ]
    },
    {
     "name": "stdout",
     "output_type": "stream",
     "text": [
      "[CV 3/10; 7/10] END ...............alpha=0.007;, score=-0.320 total time=   0.0s\n",
      "[CV 4/10; 7/10] START alpha=0.007...............................................\n",
      "[CV 4/10; 7/10] END ...............alpha=0.007;, score=-0.375 total time=   0.0s\n",
      "[CV 5/10; 7/10] START alpha=0.007...............................................\n",
      "[CV 5/10; 7/10] END ...............alpha=0.007;, score=-0.579 total time=   0.0s\n",
      "[CV 6/10; 7/10] START alpha=0.007...............................................\n",
      "[CV 6/10; 7/10] END ...............alpha=0.007;, score=-0.540 total time=   0.0s\n",
      "[CV 7/10; 7/10] START alpha=0.007...............................................\n",
      "[CV 7/10; 7/10] END ...............alpha=0.007;, score=-0.446 total time=   0.0s\n",
      "[CV 8/10; 7/10] START alpha=0.007...............................................\n",
      "[CV 8/10; 7/10] END ...............alpha=0.007;, score=-0.391 total time=   0.0s\n",
      "[CV 9/10; 7/10] START alpha=0.007...............................................\n",
      "[CV 9/10; 7/10] END ...............alpha=0.007;, score=-0.576 total time=   0.0s\n",
      "[CV 10/10; 7/10] START alpha=0.007..............................................\n",
      "[CV 10/10; 7/10] END ..............alpha=0.007;, score=-0.461 total time=   0.0s\n",
      "[CV 1/10; 8/10] START alpha=0.008...............................................\n",
      "[CV 1/10; 8/10] END ...............alpha=0.008;, score=-0.419 total time=   0.0s\n",
      "[CV 2/10; 8/10] START alpha=0.008...............................................\n",
      "[CV 2/10; 8/10] END ...............alpha=0.008;, score=-0.331 total time=   0.0s\n",
      "[CV 3/10; 8/10] START alpha=0.008...............................................\n",
      "[CV 3/10; 8/10] END ...............alpha=0.008;, score=-0.326 total time=   0.0s\n",
      "[CV 4/10; 8/10] START alpha=0.008...............................................\n",
      "[CV 4/10; 8/10] END ...............alpha=0.008;, score=-0.395 total time=   0.0s\n",
      "[CV 5/10; 8/10] START alpha=0.008...............................................\n",
      "[CV 5/10; 8/10] END ...............alpha=0.008;, score=-0.590 total time=   0.0s\n",
      "[CV 6/10; 8/10] START alpha=0.008...............................................\n",
      "[CV 6/10; 8/10] END ...............alpha=0.008;, score=-0.540 total time=   0.0s\n",
      "[CV 7/10; 8/10] START alpha=0.008...............................................\n",
      "[CV 7/10; 8/10] END ...............alpha=0.008;, score=-0.452 total time=   0.0s\n",
      "[CV 8/10; 8/10] START alpha=0.008...............................................\n",
      "[CV 8/10; 8/10] END ...............alpha=0.008;, score=-0.398 total time=   0.0s\n",
      "[CV 9/10; 8/10] START alpha=0.008...............................................\n",
      "[CV 9/10; 8/10] END ...............alpha=0.008;, score=-0.580 total time=   0.0s\n",
      "[CV 10/10; 8/10] START alpha=0.008..............................................\n",
      "[CV 10/10; 8/10] END ..............alpha=0.008;, score=-0.467 total time=   0.0s\n",
      "[CV 1/10; 9/10] START alpha=0.009...............................................\n",
      "[CV 1/10; 9/10] END ...............alpha=0.009;, score=-0.412 total time=   0.0s\n",
      "[CV 2/10; 9/10] START alpha=0.009...............................................\n",
      "[CV 2/10; 9/10] END ...............alpha=0.009;, score=-0.344 total time=   0.0s\n",
      "[CV 3/10; 9/10] START alpha=0.009...............................................\n",
      "[CV 3/10; 9/10] END ...............alpha=0.009;, score=-0.333 total time=   0.0s\n",
      "[CV 4/10; 9/10] START alpha=0.009...............................................\n",
      "[CV 4/10; 9/10] END ...............alpha=0.009;, score=-0.407 total time=   0.0s\n",
      "[CV 5/10; 9/10] START alpha=0.009...............................................\n",
      "[CV 5/10; 9/10] END ...............alpha=0.009;, score=-0.598 total time=   0.0s\n",
      "[CV 6/10; 9/10] START alpha=0.009...............................................\n",
      "[CV 6/10; 9/10] END ...............alpha=0.009;, score=-0.542 total time=   0.0s\n",
      "[CV 7/10; 9/10] START alpha=0.009...............................................\n",
      "[CV 7/10; 9/10] END ...............alpha=0.009;, score=-0.459 total time=   0.0s\n",
      "[CV 8/10; 9/10] START alpha=0.009...............................................\n",
      "[CV 8/10; 9/10] END ...............alpha=0.009;, score=-0.407 total time=   0.0s\n",
      "[CV 9/10; 9/10] START alpha=0.009...............................................\n",
      "[CV 9/10; 9/10] END ...............alpha=0.009;, score=-0.584 total time=   0.0s\n",
      "[CV 10/10; 9/10] START alpha=0.009..............................................\n",
      "[CV 10/10; 9/10] END ..............alpha=0.009;, score=-0.474 total time=   0.0s\n",
      "[CV 1/10; 10/10] START alpha=0.01...............................................\n",
      "[CV 1/10; 10/10] END ...............alpha=0.01;, score=-0.406 total time=   0.0s\n",
      "[CV 2/10; 10/10] START alpha=0.01...............................................\n",
      "[CV 2/10; 10/10] END ...............alpha=0.01;, score=-0.354 total time=   0.0s\n",
      "[CV 3/10; 10/10] START alpha=0.01...............................................\n",
      "[CV 3/10; 10/10] END ...............alpha=0.01;, score=-0.341 total time=   0.0s\n",
      "[CV 4/10; 10/10] START alpha=0.01...............................................\n",
      "[CV 4/10; 10/10] END ...............alpha=0.01;, score=-0.414 total time=   0.0s\n",
      "[CV 5/10; 10/10] START alpha=0.01...............................................\n",
      "[CV 5/10; 10/10] END ...............alpha=0.01;, score=-0.601 total time=   0.0s\n",
      "[CV 6/10; 10/10] START alpha=0.01...............................................\n",
      "[CV 6/10; 10/10] END ...............alpha=0.01;, score=-0.543 total time=   0.0s\n",
      "[CV 7/10; 10/10] START alpha=0.01...............................................\n",
      "[CV 7/10; 10/10] END ...............alpha=0.01;, score=-0.461 total time=   0.0s\n",
      "[CV 8/10; 10/10] START alpha=0.01...............................................\n",
      "[CV 8/10; 10/10] END ...............alpha=0.01;, score=-0.411 total time=   0.0s\n",
      "[CV 9/10; 10/10] START alpha=0.01...............................................\n",
      "[CV 9/10; 10/10] END ...............alpha=0.01;, score=-0.587 total time=   0.0s\n",
      "[CV 10/10; 10/10] START alpha=0.01..............................................\n",
      "[CV 10/10; 10/10] END ..............alpha=0.01;, score=-0.476 total time=   0.0s\n"
     ]
    },
    {
     "data": {
      "text/plain": [
       "{'alpha': 0.003}"
      ]
     },
     "execution_count": 18,
     "metadata": {},
     "output_type": "execute_result"
    }
   ],
   "source": [
    "parameters = {'alpha': [0.001, 0.002, 0.003, 0.004, 0.005, 0.006, 0.007, 0.008, 0.009, 0.01]}\n",
    "ls = Lasso()\n",
    "grid_search = GridSearchCV(ls, parameters, scoring='neg_mean_absolute_error', cv=10, verbose=10)\n",
    "grid_search.fit(X_train, y_train_t)\n",
    "grid_search.best_params_"
   ]
  },
  {
   "cell_type": "code",
   "execution_count": 19,
   "id": "1e40c394",
   "metadata": {},
   "outputs": [
    {
     "data": {
      "text/plain": [
       "Lasso(alpha=0.003)"
      ]
     },
     "execution_count": 19,
     "metadata": {},
     "output_type": "execute_result"
    }
   ],
   "source": [
    "ls = Lasso(alpha = 0.003)\n",
    "ls.fit(X_train, y_train_t)"
   ]
  },
  {
   "cell_type": "code",
   "execution_count": 20,
   "id": "92b90a2b",
   "metadata": {},
   "outputs": [
    {
     "data": {
      "text/plain": [
       "array([-0.81152533,  2.21593626, -1.74658509, -1.68409196,  3.44047266,\n",
       "       -2.14555215])"
      ]
     },
     "execution_count": 20,
     "metadata": {},
     "output_type": "execute_result"
    }
   ],
   "source": [
    "ls.coef_"
   ]
  },
  {
   "cell_type": "code",
   "execution_count": 21,
   "id": "e64e03d1",
   "metadata": {},
   "outputs": [
    {
     "data": {
      "text/plain": [
       "0.06338953923050339"
      ]
     },
     "execution_count": 21,
     "metadata": {},
     "output_type": "execute_result"
    }
   ],
   "source": [
    "y_pred_train = expit(ls.predict(X_train)) - 0.03\n",
    "train_mae = mean_absolute_error(y_train, y_pred_train)\n",
    "train_mae"
   ]
  },
  {
   "cell_type": "code",
   "execution_count": 22,
   "id": "9d018657",
   "metadata": {},
   "outputs": [
    {
     "data": {
      "text/plain": [
       "0.10472993692025642"
      ]
     },
     "execution_count": 22,
     "metadata": {},
     "output_type": "execute_result"
    }
   ],
   "source": [
    "y_pred_test = expit(ls.predict(X_test)) - 0.03\n",
    "test_mae = mean_absolute_error(y_test, y_pred_test)\n",
    "test_mae"
   ]
  },
  {
   "cell_type": "code",
   "execution_count": 23,
   "id": "9f5b8caf",
   "metadata": {},
   "outputs": [
    {
     "data": {
      "text/plain": [
       "[<matplotlib.lines.Line2D at 0x1f88f38fc10>]"
      ]
     },
     "execution_count": 23,
     "metadata": {},
     "output_type": "execute_result"
    },
    {
     "data": {
      "image/png": "[encoded data removed]",
      "text/plain": [
       "<Figure size 432x288 with 1 Axes>"
      ]
     },
     "metadata": {
      "needs_background": "light"
     },
     "output_type": "display_data"
    }
   ],
   "source": [
    "import matplotlib.pyplot as plt\n",
    "plt.plot(y_pred_train,'.')\n",
    "plt.plot(y_train, '.')"
   ]
  },
  {
   "cell_type": "code",
   "execution_count": 24,
   "id": "4f381b40",
   "metadata": {},
   "outputs": [
    {
     "data": {
      "text/plain": [
       "[<matplotlib.lines.Line2D at 0x1f88f3f1f40>]"
      ]
     },
     "execution_count": 24,
     "metadata": {},
     "output_type": "execute_result"
    },
    {
     "data": {
      "image/png": "[encoded data removed]",
      "text/plain": [
       "<Figure size 432x288 with 1 Axes>"
      ]
     },
     "metadata": {
      "needs_background": "light"
     },
     "output_type": "display_data"
    }
   ],
   "source": [
    "import matplotlib.pyplot as plt\n",
    "plt.plot(y_pred_test,'.')\n",
    "plt.plot(y_test.reset_index()['fraction'],'.')"
   ]
  },
  {
   "cell_type": "code",
   "execution_count": 25,
   "id": "df0d0c04",
   "metadata": {},
   "outputs": [
    {
     "data": {
      "text/plain": [
       "[<matplotlib.lines.Line2D at 0x1f88f463640>]"
      ]
     },
     "execution_count": 25,
     "metadata": {},
     "output_type": "execute_result"
    },
    {
     "data": {
      "image/png": "[encoded data removed]",
      "text/plain": [
       "<Figure size 432x288 with 1 Axes>"
      ]
     },
     "metadata": {
      "needs_background": "light"
     },
     "output_type": "display_data"
    }
   ],
   "source": [
    "plt.plot(y_train, y_pred_train, '.')\n",
    "plt.plot([0, 1], [0, 1])"
   ]
  },
  {
   "cell_type": "code",
   "execution_count": 26,
   "id": "00362620",
   "metadata": {},
   "outputs": [
    {
     "data": {
      "text/plain": [
       "[<matplotlib.lines.Line2D at 0x1f88f4c0e80>]"
      ]
     },
     "execution_count": 26,
     "metadata": {},
     "output_type": "execute_result"
    },
    {
     "data": {
      "image/png": "[encoded data removed]",
      "text/plain": [
       "<Figure size 432x288 with 1 Axes>"
      ]
     },
     "metadata": {
      "needs_background": "light"
     },
     "output_type": "display_data"
    }
   ],
   "source": [
    "plt.plot(y_test, y_pred_test, '.')\n",
    "plt.plot([0, 0.6], [0, 0.6])"
   ]
  },
  {
   "cell_type": "code",
   "execution_count": 28,
   "id": "369ad4b7",
   "metadata": {},
   "outputs": [
    {
     "data": {
      "text/plain": [
       "(0.923840533160407, 0.0)"
      ]
     },
     "execution_count": 28,
     "metadata": {},
     "output_type": "execute_result"
    }
   ],
   "source": [
    "scst.pearsonr(y_train, y_pred_train)"
   ]
  },
  {
   "cell_type": "code",
   "execution_count": 29,
   "id": "bdc6d7be",
   "metadata": {},
   "outputs": [
    {
     "data": {
      "text/plain": [
       "(0.7305008228148573, 8.469753241449708e-31)"
      ]
     },
     "execution_count": 29,
     "metadata": {},
     "output_type": "execute_result"
    }
   ],
   "source": [
    "scst.pearsonr(y_test, y_pred_test)"
   ]
  },
  {
   "cell_type": "code",
   "execution_count": null,
   "id": "9b4c2a84",
   "metadata": {},
   "outputs": [],
   "source": []
  }
 ],
 "metadata": {
  "kernelspec": {
   "display_name": "Python 3 (ipykernel)",
   "language": "python",
   "name": "python3"
  },
  "language_info": {
   "codemirror_mode": {
    "name": "ipython",
    "version": 3
   },
   "file_extension": ".py",
   "mimetype": "text/x-python",
   "name": "python",
   "nbconvert_exporter": "python",
   "pygments_lexer": "ipython3",
   "version": "3.9.7"
  }
 },
 "nbformat": 4,
 "nbformat_minor": 5
}
