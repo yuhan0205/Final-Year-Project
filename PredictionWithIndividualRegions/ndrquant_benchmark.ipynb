{
 "cells": [
  {
   "cell_type": "code",
   "execution_count": 1,
   "id": "4946b526",
   "metadata": {},
   "outputs": [],
   "source": [
    "import numpy as np\n",
    "import pandas as pd\n",
    "import matplotlib.pyplot as plt\n",
    "import scipy.stats as scst\n",
    "from sklearn.linear_model import LinearRegression, Lasso\n",
    "from sklearn.model_selection import GridSearchCV\n",
    "from sklearn.metrics import mean_absolute_error\n",
    "from scipy.special import logit, expit"
   ]
  },
  {
   "cell_type": "code",
   "execution_count": 2,
   "id": "2b456eba",
   "metadata": {},
   "outputs": [],
   "source": [
    "train_df = pd.read_csv('train_benchmark.csv')\n",
    "test_df = pd.read_csv('test_benchmark.csv')"
   ]
  },
  {
   "cell_type": "code",
   "execution_count": 3,
   "id": "a9b14fcb",
   "metadata": {},
   "outputs": [
    {
     "data": {
      "text/html": [
       "<div>\n",
       "<style scoped>\n",
       "    .dataframe tbody tr th:only-of-type {\n",
       "        vertical-align: middle;\n",
       "    }\n",
       "\n",
       "    .dataframe tbody tr th {\n",
       "        vertical-align: top;\n",
       "    }\n",
       "\n",
       "    .dataframe thead th {\n",
       "        text-align: right;\n",
       "    }\n",
       "</style>\n",
       "<table border=\"1\" class=\"dataframe\">\n",
       "  <thead>\n",
       "    <tr style=\"text-align: right;\">\n",
       "      <th></th>\n",
       "      <th>Unnamed: 0</th>\n",
       "      <th>1_156028951-156032951</th>\n",
       "      <th>19_838960-842960</th>\n",
       "      <th>19_35737922-35741922</th>\n",
       "      <th>19_41080891-41084891</th>\n",
       "      <th>4_185745070-185749070</th>\n",
       "      <th>16_75283369-75287369</th>\n",
       "      <th>fraction</th>\n",
       "      <th>file_origin</th>\n",
       "    </tr>\n",
       "  </thead>\n",
       "  <tbody>\n",
       "    <tr>\n",
       "      <th>450</th>\n",
       "      <td>450</td>\n",
       "      <td>1.089253</td>\n",
       "      <td>1.250069</td>\n",
       "      <td>1.037599</td>\n",
       "      <td>0.248873</td>\n",
       "      <td>0.269718</td>\n",
       "      <td>0.699503</td>\n",
       "      <td>0.000</td>\n",
       "      <td>512_051015570</td>\n",
       "    </tr>\n",
       "    <tr>\n",
       "      <th>451</th>\n",
       "      <td>451</td>\n",
       "      <td>1.086535</td>\n",
       "      <td>1.249794</td>\n",
       "      <td>1.035817</td>\n",
       "      <td>0.249363</td>\n",
       "      <td>0.269641</td>\n",
       "      <td>0.697885</td>\n",
       "      <td>0.005</td>\n",
       "      <td>512_051015570</td>\n",
       "    </tr>\n",
       "    <tr>\n",
       "      <th>452</th>\n",
       "      <td>452</td>\n",
       "      <td>1.083806</td>\n",
       "      <td>1.249519</td>\n",
       "      <td>1.034025</td>\n",
       "      <td>0.249856</td>\n",
       "      <td>0.269564</td>\n",
       "      <td>0.696259</td>\n",
       "      <td>0.010</td>\n",
       "      <td>512_051015570</td>\n",
       "    </tr>\n",
       "    <tr>\n",
       "      <th>453</th>\n",
       "      <td>453</td>\n",
       "      <td>1.081064</td>\n",
       "      <td>1.249243</td>\n",
       "      <td>1.032220</td>\n",
       "      <td>0.250352</td>\n",
       "      <td>0.269487</td>\n",
       "      <td>0.694623</td>\n",
       "      <td>0.015</td>\n",
       "      <td>512_051015570</td>\n",
       "    </tr>\n",
       "    <tr>\n",
       "      <th>454</th>\n",
       "      <td>454</td>\n",
       "      <td>1.078309</td>\n",
       "      <td>1.248966</td>\n",
       "      <td>1.030405</td>\n",
       "      <td>0.250851</td>\n",
       "      <td>0.269409</td>\n",
       "      <td>0.692979</td>\n",
       "      <td>0.020</td>\n",
       "      <td>512_051015570</td>\n",
       "    </tr>\n",
       "    <tr>\n",
       "      <th>...</th>\n",
       "      <td>...</td>\n",
       "      <td>...</td>\n",
       "      <td>...</td>\n",
       "      <td>...</td>\n",
       "      <td>...</td>\n",
       "      <td>...</td>\n",
       "      <td>...</td>\n",
       "      <td>...</td>\n",
       "      <td>...</td>\n",
       "    </tr>\n",
       "    <tr>\n",
       "      <th>697</th>\n",
       "      <td>697</td>\n",
       "      <td>0.790787</td>\n",
       "      <td>1.171080</td>\n",
       "      <td>0.930378</td>\n",
       "      <td>0.403486</td>\n",
       "      <td>0.229104</td>\n",
       "      <td>0.559976</td>\n",
       "      <td>0.300</td>\n",
       "      <td>512_130114572</td>\n",
       "    </tr>\n",
       "    <tr>\n",
       "      <th>698</th>\n",
       "      <td>698</td>\n",
       "      <td>0.766478</td>\n",
       "      <td>1.208249</td>\n",
       "      <td>0.883794</td>\n",
       "      <td>0.413806</td>\n",
       "      <td>0.237465</td>\n",
       "      <td>0.532307</td>\n",
       "      <td>0.325</td>\n",
       "      <td>512_130114572</td>\n",
       "    </tr>\n",
       "    <tr>\n",
       "      <th>699</th>\n",
       "      <td>699</td>\n",
       "      <td>0.740663</td>\n",
       "      <td>1.246864</td>\n",
       "      <td>0.833704</td>\n",
       "      <td>0.424742</td>\n",
       "      <td>0.246240</td>\n",
       "      <td>0.502804</td>\n",
       "      <td>0.350</td>\n",
       "      <td>512_130114572</td>\n",
       "    </tr>\n",
       "    <tr>\n",
       "      <th>700</th>\n",
       "      <td>700</td>\n",
       "      <td>0.713198</td>\n",
       "      <td>1.287010</td>\n",
       "      <td>0.779696</td>\n",
       "      <td>0.436352</td>\n",
       "      <td>0.255461</td>\n",
       "      <td>0.471280</td>\n",
       "      <td>0.375</td>\n",
       "      <td>512_130114572</td>\n",
       "    </tr>\n",
       "    <tr>\n",
       "      <th>701</th>\n",
       "      <td>701</td>\n",
       "      <td>0.691122</td>\n",
       "      <td>1.318602</td>\n",
       "      <td>0.735739</td>\n",
       "      <td>0.445665</td>\n",
       "      <td>0.262788</td>\n",
       "      <td>0.445838</td>\n",
       "      <td>0.394</td>\n",
       "      <td>512_130114572</td>\n",
       "    </tr>\n",
       "  </tbody>\n",
       "</table>\n",
       "<p>177 rows × 9 columns</p>\n",
       "</div>"
      ],
      "text/plain": [
       "     Unnamed: 0  1_156028951-156032951  19_838960-842960  \\\n",
       "450         450               1.089253          1.250069   \n",
       "451         451               1.086535          1.249794   \n",
       "452         452               1.083806          1.249519   \n",
       "453         453               1.081064          1.249243   \n",
       "454         454               1.078309          1.248966   \n",
       "..          ...                    ...               ...   \n",
       "697         697               0.790787          1.171080   \n",
       "698         698               0.766478          1.208249   \n",
       "699         699               0.740663          1.246864   \n",
       "700         700               0.713198          1.287010   \n",
       "701         701               0.691122          1.318602   \n",
       "\n",
       "     19_35737922-35741922  19_41080891-41084891  4_185745070-185749070  \\\n",
       "450              1.037599              0.248873               0.269718   \n",
       "451              1.035817              0.249363               0.269641   \n",
       "452              1.034025              0.249856               0.269564   \n",
       "453              1.032220              0.250352               0.269487   \n",
       "454              1.030405              0.250851               0.269409   \n",
       "..                    ...                   ...                    ...   \n",
       "697              0.930378              0.403486               0.229104   \n",
       "698              0.883794              0.413806               0.237465   \n",
       "699              0.833704              0.424742               0.246240   \n",
       "700              0.779696              0.436352               0.255461   \n",
       "701              0.735739              0.445665               0.262788   \n",
       "\n",
       "     16_75283369-75287369  fraction    file_origin  \n",
       "450              0.699503     0.000  512_051015570  \n",
       "451              0.697885     0.005  512_051015570  \n",
       "452              0.696259     0.010  512_051015570  \n",
       "453              0.694623     0.015  512_051015570  \n",
       "454              0.692979     0.020  512_051015570  \n",
       "..                    ...       ...            ...  \n",
       "697              0.559976     0.300  512_130114572  \n",
       "698              0.532307     0.325  512_130114572  \n",
       "699              0.502804     0.350  512_130114572  \n",
       "700              0.471280     0.375  512_130114572  \n",
       "701              0.445838     0.394  512_130114572  \n",
       "\n",
       "[177 rows x 9 columns]"
      ]
     },
     "execution_count": 3,
     "metadata": {},
     "output_type": "execute_result"
    }
   ],
   "source": [
    "new_test_df = pd.concat([test_df[test_df['file_origin'] == '512_051015570'], \\\n",
    "                         test_df[test_df['file_origin'] == '512_051015571'], \\\n",
    "                         test_df[test_df['file_origin'] == '512_051015572'], \\\n",
    "                         test_df[test_df['file_origin'] == '512_130114570'], \\\n",
    "                         test_df[test_df['file_origin'] == '512_130114571'], \\\n",
    "                         test_df[test_df['file_origin'] == '512_130114572']])\n",
    "new_test_df"
   ]
  },
  {
   "cell_type": "code",
   "execution_count": 4,
   "id": "f3b1f819",
   "metadata": {},
   "outputs": [],
   "source": [
    "X_train = train_df.drop(['Unnamed: 0', 'fraction', 'file_origin'], axis = 1)\n",
    "y_train = train_df['fraction']\n",
    "X_test = new_test_df.drop(['Unnamed: 0', 'fraction', 'file_origin'], axis = 1)\n",
    "y_test =  new_test_df['fraction']"
   ]
  },
  {
   "cell_type": "code",
   "execution_count": null,
   "id": "bb6a63db",
   "metadata": {},
   "outputs": [],
   "source": []
  },
  {
   "cell_type": "code",
   "execution_count": 5,
   "id": "7d7fefde",
   "metadata": {
    "scrolled": true
   },
   "outputs": [
    {
     "name": "stdout",
     "output_type": "stream",
     "text": [
      "Fitting 10 folds for each of 7 candidates, totalling 70 fits\n",
      "[CV 1/10; 1/7] START alpha=5e-05................................................\n",
      "[CV 1/10; 1/7] END ................alpha=5e-05;, score=-0.092 total time=   0.0s\n",
      "[CV 2/10; 1/7] START alpha=5e-05................................................\n",
      "[CV 2/10; 1/7] END ................alpha=5e-05;, score=-0.043 total time=   0.0s\n",
      "[CV 3/10; 1/7] START alpha=5e-05................................................\n",
      "[CV 3/10; 1/7] END ................alpha=5e-05;, score=-0.043 total time=   0.0s\n",
      "[CV 4/10; 1/7] START alpha=5e-05................................................\n",
      "[CV 4/10; 1/7] END ................alpha=5e-05;, score=-0.044 total time=   0.0s\n",
      "[CV 5/10; 1/7] START alpha=5e-05................................................\n",
      "[CV 5/10; 1/7] END ................alpha=5e-05;, score=-0.069 total time=   0.0s\n",
      "[CV 6/10; 1/7] START alpha=5e-05................................................\n",
      "[CV 6/10; 1/7] END ................alpha=5e-05;, score=-0.080 total time=   0.0s\n",
      "[CV 7/10; 1/7] START alpha=5e-05................................................\n",
      "[CV 7/10; 1/7] END ................alpha=5e-05;, score=-0.060 total time=   0.0s\n",
      "[CV 8/10; 1/7] START alpha=5e-05................................................\n",
      "[CV 8/10; 1/7] END ................alpha=5e-05;, score=-0.048 total time=   0.0s\n",
      "[CV 9/10; 1/7] START alpha=5e-05................................................\n",
      "[CV 9/10; 1/7] END ................alpha=5e-05;, score=-0.076 total time=   0.0s\n",
      "[CV 10/10; 1/7] START alpha=5e-05...............................................\n",
      "[CV 10/10; 1/7] END ...............alpha=5e-05;, score=-0.056 total time=   0.0s\n",
      "[CV 1/10; 2/7] START alpha=9e-05................................................\n",
      "[CV 1/10; 2/7] END ................alpha=9e-05;, score=-0.091 total time=   0.0s\n",
      "[CV 2/10; 2/7] START alpha=9e-05................................................\n",
      "[CV 2/10; 2/7] END ................alpha=9e-05;, score=-0.044 total time=   0.0s\n",
      "[CV 3/10; 2/7] START alpha=9e-05................................................\n",
      "[CV 3/10; 2/7] END ................alpha=9e-05;, score=-0.043 total time=   0.0s\n",
      "[CV 4/10; 2/7] START alpha=9e-05................................................\n",
      "[CV 4/10; 2/7] END ................alpha=9e-05;, score=-0.044 total time=   0.0s\n",
      "[CV 5/10; 2/7] START alpha=9e-05................................................\n",
      "[CV 5/10; 2/7] END ................alpha=9e-05;, score=-0.069 total time=   0.0s\n",
      "[CV 6/10; 2/7] START alpha=9e-05................................................\n",
      "[CV 6/10; 2/7] END ................alpha=9e-05;, score=-0.080 total time=   0.0s\n",
      "[CV 7/10; 2/7] START alpha=9e-05................................................\n",
      "[CV 7/10; 2/7] END ................alpha=9e-05;, score=-0.060 total time=   0.0s\n",
      "[CV 8/10; 2/7] START alpha=9e-05................................................\n",
      "[CV 8/10; 2/7] END ................alpha=9e-05;, score=-0.048 total time=   0.0s\n",
      "[CV 9/10; 2/7] START alpha=9e-05................................................\n",
      "[CV 9/10; 2/7] END ................alpha=9e-05;, score=-0.076 total time=   0.0s\n",
      "[CV 10/10; 2/7] START alpha=9e-05...............................................\n",
      "[CV 10/10; 2/7] END ...............alpha=9e-05;, score=-0.056 total time=   0.0s\n",
      "[CV 1/10; 3/7] START alpha=0.0001...............................................\n",
      "[CV 1/10; 3/7] END ...............alpha=0.0001;, score=-0.091 total time=   0.0s\n",
      "[CV 2/10; 3/7] START alpha=0.0001...............................................\n",
      "[CV 2/10; 3/7] END ...............alpha=0.0001;, score=-0.044 total time=   0.0s\n",
      "[CV 3/10; 3/7] START alpha=0.0001...............................................\n",
      "[CV 3/10; 3/7] END ...............alpha=0.0001;, score=-0.043 total time=   0.0s\n",
      "[CV 4/10; 3/7] START alpha=0.0001...............................................\n",
      "[CV 4/10; 3/7] END ...............alpha=0.0001;, score=-0.044 total time=   0.0s\n",
      "[CV 5/10; 3/7] START alpha=0.0001...............................................\n",
      "[CV 5/10; 3/7] END ...............alpha=0.0001;, score=-0.069 total time=   0.0s\n",
      "[CV 6/10; 3/7] START alpha=0.0001...............................................\n",
      "[CV 6/10; 3/7] END ...............alpha=0.0001;, score=-0.079 total time=   0.0s\n",
      "[CV 7/10; 3/7] START alpha=0.0001...............................................\n",
      "[CV 7/10; 3/7] END ...............alpha=0.0001;, score=-0.060 total time=   0.0s\n",
      "[CV 8/10; 3/7] START alpha=0.0001...............................................\n",
      "[CV 8/10; 3/7] END ...............alpha=0.0001;, score=-0.048 total time=   0.0s\n",
      "[CV 9/10; 3/7] START alpha=0.0001...............................................\n",
      "[CV 9/10; 3/7] END ...............alpha=0.0001;, score=-0.076 total time=   0.0s\n",
      "[CV 10/10; 3/7] START alpha=0.0001..............................................\n",
      "[CV 10/10; 3/7] END ..............alpha=0.0001;, score=-0.056 total time=   0.0s\n",
      "[CV 1/10; 4/7] START alpha=0.0002...............................................\n",
      "[CV 1/10; 4/7] END ...............alpha=0.0002;, score=-0.089 total time=   0.0s\n",
      "[CV 2/10; 4/7] START alpha=0.0002...............................................\n",
      "[CV 2/10; 4/7] END ...............alpha=0.0002;, score=-0.044 total time=   0.0s\n",
      "[CV 3/10; 4/7] START alpha=0.0002...............................................\n",
      "[CV 3/10; 4/7] END ...............alpha=0.0002;, score=-0.044 total time=   0.0s\n",
      "[CV 4/10; 4/7] START alpha=0.0002...............................................\n",
      "[CV 4/10; 4/7] END ...............alpha=0.0002;, score=-0.044 total time=   0.0s\n",
      "[CV 5/10; 4/7] START alpha=0.0002...............................................\n",
      "[CV 5/10; 4/7] END ...............alpha=0.0002;, score=-0.070 total time=   0.0s\n",
      "[CV 6/10; 4/7] START alpha=0.0002...............................................\n",
      "[CV 6/10; 4/7] END ...............alpha=0.0002;, score=-0.079 total time=   0.0s\n",
      "[CV 7/10; 4/7] START alpha=0.0002...............................................\n",
      "[CV 7/10; 4/7] END ...............alpha=0.0002;, score=-0.060 total time=   0.0s\n",
      "[CV 8/10; 4/7] START alpha=0.0002...............................................\n",
      "[CV 8/10; 4/7] END ...............alpha=0.0002;, score=-0.048 total time=   0.0s\n",
      "[CV 9/10; 4/7] START alpha=0.0002...............................................\n",
      "[CV 9/10; 4/7] END ...............alpha=0.0002;, score=-0.076 total time=   0.0s\n",
      "[CV 10/10; 4/7] START alpha=0.0002..............................................\n",
      "[CV 10/10; 4/7] END ..............alpha=0.0002;, score=-0.056 total time=   0.0s\n",
      "[CV 1/10; 5/7] START alpha=0.0003...............................................\n",
      "[CV 1/10; 5/7] END ...............alpha=0.0003;, score=-0.087 total time=   0.0s\n",
      "[CV 2/10; 5/7] START alpha=0.0003...............................................\n",
      "[CV 2/10; 5/7] END ...............alpha=0.0003;, score=-0.045 total time=   0.0s\n",
      "[CV 3/10; 5/7] START alpha=0.0003...............................................\n",
      "[CV 3/10; 5/7] END ...............alpha=0.0003;, score=-0.044 total time=   0.0s\n",
      "[CV 4/10; 5/7] START alpha=0.0003...............................................\n",
      "[CV 4/10; 5/7] END ...............alpha=0.0003;, score=-0.044 total time=   0.0s\n",
      "[CV 5/10; 5/7] START alpha=0.0003...............................................\n",
      "[CV 5/10; 5/7] END ...............alpha=0.0003;, score=-0.071 total time=   0.0s\n",
      "[CV 6/10; 5/7] START alpha=0.0003...............................................\n",
      "[CV 6/10; 5/7] END ...............alpha=0.0003;, score=-0.079 total time=   0.0s\n",
      "[CV 7/10; 5/7] START alpha=0.0003...............................................\n",
      "[CV 7/10; 5/7] END ...............alpha=0.0003;, score=-0.060 total time=   0.0s\n",
      "[CV 8/10; 5/7] START alpha=0.0003...............................................\n",
      "[CV 8/10; 5/7] END ...............alpha=0.0003;, score=-0.048 total time=   0.0s\n",
      "[CV 9/10; 5/7] START alpha=0.0003...............................................\n",
      "[CV 9/10; 5/7] END ...............alpha=0.0003;, score=-0.076 total time=   0.0s\n",
      "[CV 10/10; 5/7] START alpha=0.0003..............................................\n",
      "[CV 10/10; 5/7] END ..............alpha=0.0003;, score=-0.056 total time=   0.0s\n",
      "[CV 1/10; 6/7] START alpha=0.0004...............................................\n",
      "[CV 1/10; 6/7] END ...............alpha=0.0004;, score=-0.085 total time=   0.0s\n",
      "[CV 2/10; 6/7] START alpha=0.0004...............................................\n",
      "[CV 2/10; 6/7] END ...............alpha=0.0004;, score=-0.046 total time=   0.0s\n",
      "[CV 3/10; 6/7] START alpha=0.0004...............................................\n",
      "[CV 3/10; 6/7] END ...............alpha=0.0004;, score=-0.045 total time=   0.0s\n",
      "[CV 4/10; 6/7] START alpha=0.0004...............................................\n",
      "[CV 4/10; 6/7] END ...............alpha=0.0004;, score=-0.045 total time=   0.0s\n",
      "[CV 5/10; 6/7] START alpha=0.0004...............................................\n",
      "[CV 5/10; 6/7] END ...............alpha=0.0004;, score=-0.072 total time=   0.0s\n",
      "[CV 6/10; 6/7] START alpha=0.0004...............................................\n",
      "[CV 6/10; 6/7] END ...............alpha=0.0004;, score=-0.078 total time=   0.0s\n",
      "[CV 7/10; 6/7] START alpha=0.0004...............................................\n",
      "[CV 7/10; 6/7] END ...............alpha=0.0004;, score=-0.061 total time=   0.0s\n",
      "[CV 8/10; 6/7] START alpha=0.0004...............................................\n",
      "[CV 8/10; 6/7] END ...............alpha=0.0004;, score=-0.048 total time=   0.0s\n",
      "[CV 9/10; 6/7] START alpha=0.0004...............................................\n",
      "[CV 9/10; 6/7] END ...............alpha=0.0004;, score=-0.076 total time=   0.0s\n",
      "[CV 10/10; 6/7] START alpha=0.0004..............................................\n",
      "[CV 10/10; 6/7] END ..............alpha=0.0004;, score=-0.057 total time=   0.0s\n",
      "[CV 1/10; 7/7] START alpha=0.0005...............................................\n",
      "[CV 1/10; 7/7] END ...............alpha=0.0005;, score=-0.083 total time=   0.0s\n",
      "[CV 2/10; 7/7] START alpha=0.0005...............................................\n",
      "[CV 2/10; 7/7] END ...............alpha=0.0005;, score=-0.047 total time=   0.0s\n",
      "[CV 3/10; 7/7] START alpha=0.0005...............................................\n",
      "[CV 3/10; 7/7] END ...............alpha=0.0005;, score=-0.046 total time=   0.0s\n",
      "[CV 4/10; 7/7] START alpha=0.0005...............................................\n",
      "[CV 4/10; 7/7] END ...............alpha=0.0005;, score=-0.046 total time=   0.0s\n",
      "[CV 5/10; 7/7] START alpha=0.0005...............................................\n",
      "[CV 5/10; 7/7] END ...............alpha=0.0005;, score=-0.073 total time=   0.0s\n",
      "[CV 6/10; 7/7] START alpha=0.0005...............................................\n",
      "[CV 6/10; 7/7] END ...............alpha=0.0005;, score=-0.078 total time=   0.0s\n",
      "[CV 7/10; 7/7] START alpha=0.0005...............................................\n",
      "[CV 7/10; 7/7] END ...............alpha=0.0005;, score=-0.061 total time=   0.0s\n",
      "[CV 8/10; 7/7] START alpha=0.0005...............................................\n",
      "[CV 8/10; 7/7] END ...............alpha=0.0005;, score=-0.048 total time=   0.0s\n",
      "[CV 9/10; 7/7] START alpha=0.0005...............................................\n",
      "[CV 9/10; 7/7] END ...............alpha=0.0005;, score=-0.076 total time=   0.0s\n",
      "[CV 10/10; 7/7] START alpha=0.0005..............................................\n",
      "[CV 10/10; 7/7] END ..............alpha=0.0005;, score=-0.057 total time=   0.0s\n"
     ]
    },
    {
     "data": {
      "text/plain": [
       "{'alpha': 0.0002}"
      ]
     },
     "execution_count": 5,
     "metadata": {},
     "output_type": "execute_result"
    }
   ],
   "source": [
    "parameters = {'alpha': [0.00005, 0.00009, 0.0001, 0.0002, 0.0003, 0.0004, 0.0005]}\n",
    "ls = Lasso()\n",
    "grid_search = GridSearchCV(ls, parameters, scoring='neg_mean_absolute_error', cv=10, verbose=10)\n",
    "grid_search.fit(X_train, y_train)\n",
    "grid_search.best_params_"
   ]
  },
  {
   "cell_type": "code",
   "execution_count": 6,
   "id": "61066dd4",
   "metadata": {},
   "outputs": [
    {
     "data": {
      "text/plain": [
       "Lasso(alpha=0.0002)"
      ]
     },
     "execution_count": 6,
     "metadata": {},
     "output_type": "execute_result"
    }
   ],
   "source": [
    "ls = Lasso(alpha=0.0002)\n",
    "ls.fit(X_train, y_train)"
   ]
  },
  {
   "cell_type": "code",
   "execution_count": 7,
   "id": "448dd058",
   "metadata": {},
   "outputs": [
    {
     "data": {
      "text/plain": [
       "array([-0.13446727,  0.42671276, -0.33036994, -0.3169903 ,  0.64799214,\n",
       "       -0.35996521])"
      ]
     },
     "execution_count": 7,
     "metadata": {},
     "output_type": "execute_result"
    }
   ],
   "source": [
    "ls.coef_"
   ]
  },
  {
   "cell_type": "code",
   "execution_count": 8,
   "id": "e64e03d1",
   "metadata": {},
   "outputs": [
    {
     "data": {
      "text/plain": [
       "0.056351465366072724"
      ]
     },
     "execution_count": 8,
     "metadata": {},
     "output_type": "execute_result"
    }
   ],
   "source": [
    "y_pred_train = ls.predict(X_train)\n",
    "y_pred_train_correctzero = y_pred_train\n",
    "y_pred_train_correctzero[y_pred_train_correctzero < 0] = 0\n",
    "train_mae = mean_absolute_error(y_train, y_pred_train_correctzero)\n",
    "train_mae"
   ]
  },
  {
   "cell_type": "code",
   "execution_count": 9,
   "id": "9d018657",
   "metadata": {},
   "outputs": [
    {
     "data": {
      "text/plain": [
       "0.1129327693187105"
      ]
     },
     "execution_count": 9,
     "metadata": {},
     "output_type": "execute_result"
    }
   ],
   "source": [
    "y_pred_test = ls.predict(X_test)\n",
    "y_pred_test_correctzero = y_pred_test\n",
    "y_pred_test_correctzero[y_pred_test_correctzero < 0] = 0\n",
    "test_mae = mean_absolute_error(y_test, y_pred_test_correctzero)\n",
    "test_mae"
   ]
  },
  {
   "cell_type": "code",
   "execution_count": 10,
   "id": "9f5b8caf",
   "metadata": {},
   "outputs": [
    {
     "data": {
      "text/plain": [
       "[<matplotlib.lines.Line2D at 0x24b07462160>]"
      ]
     },
     "execution_count": 10,
     "metadata": {},
     "output_type": "execute_result"
    },
    {
     "data": {
      "image/png": "[encoded data removed]",
      "text/plain": [
       "<Figure size 432x288 with 1 Axes>"
      ]
     },
     "metadata": {
      "needs_background": "light"
     },
     "output_type": "display_data"
    }
   ],
   "source": [
    "plt.plot(y_pred_train_correctzero,'.')\n",
    "plt.plot(y_train, '.')"
   ]
  },
  {
   "cell_type": "code",
   "execution_count": 11,
   "id": "4f381b40",
   "metadata": {},
   "outputs": [
    {
     "data": {
      "text/plain": [
       "[<matplotlib.lines.Line2D at 0x24b07c332e0>]"
      ]
     },
     "execution_count": 11,
     "metadata": {},
     "output_type": "execute_result"
    },
    {
     "data": {
      "image/png": "[encoded data removed]",
      "text/plain": [
       "<Figure size 432x288 with 1 Axes>"
      ]
     },
     "metadata": {
      "needs_background": "light"
     },
     "output_type": "display_data"
    }
   ],
   "source": [
    "plt.plot(y_pred_test_correctzero,'.')\n",
    "plt.plot(y_test.reset_index()['fraction'],'.')"
   ]
  },
  {
   "cell_type": "code",
   "execution_count": 12,
   "id": "95e499ba",
   "metadata": {},
   "outputs": [
    {
     "data": {
      "text/plain": [
       "(0.9327781723613614, 0.0)"
      ]
     },
     "execution_count": 12,
     "metadata": {},
     "output_type": "execute_result"
    }
   ],
   "source": [
    "scst.pearsonr(y_train, y_pred_train_correctzero)"
   ]
  },
  {
   "cell_type": "code",
   "execution_count": 13,
   "id": "b025b24f",
   "metadata": {},
   "outputs": [
    {
     "data": {
      "text/plain": [
       "(0.670760785415617, 1.7279959957258743e-24)"
      ]
     },
     "execution_count": 13,
     "metadata": {},
     "output_type": "execute_result"
    }
   ],
   "source": [
    "scst.pearsonr(y_test, y_pred_test_correctzero)"
   ]
  },
  {
   "cell_type": "code",
   "execution_count": 14,
   "id": "1c700641",
   "metadata": {},
   "outputs": [
    {
     "data": {
      "text/plain": [
       "[<matplotlib.lines.Line2D at 0x24b07cb1580>]"
      ]
     },
     "execution_count": 14,
     "metadata": {},
     "output_type": "execute_result"
    },
    {
     "data": {
      "image/png": "[encoded data removed]",
      "text/plain": [
       "<Figure size 432x288 with 1 Axes>"
      ]
     },
     "metadata": {
      "needs_background": "light"
     },
     "output_type": "display_data"
    }
   ],
   "source": [
    "plt.plot(y_train, y_pred_train_correctzero, '.')\n",
    "plt.plot([0, 1], [0, 1])"
   ]
  },
  {
   "cell_type": "code",
   "execution_count": 15,
   "id": "38496770",
   "metadata": {},
   "outputs": [
    {
     "data": {
      "text/plain": [
       "[<matplotlib.lines.Line2D at 0x24b07d0fdf0>]"
      ]
     },
     "execution_count": 15,
     "metadata": {},
     "output_type": "execute_result"
    },
    {
     "data": {
      "image/png": "[encoded data removed]",
      "text/plain": [
       "<Figure size 432x288 with 1 Axes>"
      ]
     },
     "metadata": {
      "needs_background": "light"
     },
     "output_type": "display_data"
    }
   ],
   "source": [
    "plt.plot(y_test, y_pred_test_correctzero, '.')\n",
    "plt.plot([0, 0.6], [0, 0.6])"
   ]
  },
  {
   "cell_type": "code",
   "execution_count": 16,
   "id": "b16730b5",
   "metadata": {},
   "outputs": [
    {
     "data": {
      "text/html": [
       "<div>\n",
       "<style scoped>\n",
       "    .dataframe tbody tr th:only-of-type {\n",
       "        vertical-align: middle;\n",
       "    }\n",
       "\n",
       "    .dataframe tbody tr th {\n",
       "        vertical-align: top;\n",
       "    }\n",
       "\n",
       "    .dataframe thead th {\n",
       "        text-align: right;\n",
       "    }\n",
       "</style>\n",
       "<table border=\"1\" class=\"dataframe\">\n",
       "  <thead>\n",
       "    <tr style=\"text-align: right;\">\n",
       "      <th></th>\n",
       "      <th>1_156028951-156032951</th>\n",
       "      <th>19_838960-842960</th>\n",
       "      <th>19_35737922-35741922</th>\n",
       "      <th>19_41080891-41084891</th>\n",
       "      <th>4_185745070-185749070</th>\n",
       "      <th>16_75283369-75287369</th>\n",
       "    </tr>\n",
       "  </thead>\n",
       "  <tbody>\n",
       "    <tr>\n",
       "      <th>1_156028951-156032951</th>\n",
       "      <td>1.000000</td>\n",
       "      <td>-0.452109</td>\n",
       "      <td>0.453157</td>\n",
       "      <td>-0.215424</td>\n",
       "      <td>-0.258272</td>\n",
       "      <td>0.553364</td>\n",
       "    </tr>\n",
       "    <tr>\n",
       "      <th>19_838960-842960</th>\n",
       "      <td>-0.452109</td>\n",
       "      <td>1.000000</td>\n",
       "      <td>-0.152249</td>\n",
       "      <td>0.445846</td>\n",
       "      <td>0.485498</td>\n",
       "      <td>-0.073092</td>\n",
       "    </tr>\n",
       "    <tr>\n",
       "      <th>19_35737922-35741922</th>\n",
       "      <td>0.453157</td>\n",
       "      <td>-0.152249</td>\n",
       "      <td>1.000000</td>\n",
       "      <td>-0.176355</td>\n",
       "      <td>-0.080406</td>\n",
       "      <td>0.749268</td>\n",
       "    </tr>\n",
       "    <tr>\n",
       "      <th>19_41080891-41084891</th>\n",
       "      <td>-0.215424</td>\n",
       "      <td>0.445846</td>\n",
       "      <td>-0.176355</td>\n",
       "      <td>1.000000</td>\n",
       "      <td>0.428624</td>\n",
       "      <td>0.003598</td>\n",
       "    </tr>\n",
       "    <tr>\n",
       "      <th>4_185745070-185749070</th>\n",
       "      <td>-0.258272</td>\n",
       "      <td>0.485498</td>\n",
       "      <td>-0.080406</td>\n",
       "      <td>0.428624</td>\n",
       "      <td>1.000000</td>\n",
       "      <td>0.203277</td>\n",
       "    </tr>\n",
       "    <tr>\n",
       "      <th>16_75283369-75287369</th>\n",
       "      <td>0.553364</td>\n",
       "      <td>-0.073092</td>\n",
       "      <td>0.749268</td>\n",
       "      <td>0.003598</td>\n",
       "      <td>0.203277</td>\n",
       "      <td>1.000000</td>\n",
       "    </tr>\n",
       "  </tbody>\n",
       "</table>\n",
       "</div>"
      ],
      "text/plain": [
       "                       1_156028951-156032951  19_838960-842960  \\\n",
       "1_156028951-156032951               1.000000         -0.452109   \n",
       "19_838960-842960                   -0.452109          1.000000   \n",
       "19_35737922-35741922                0.453157         -0.152249   \n",
       "19_41080891-41084891               -0.215424          0.445846   \n",
       "4_185745070-185749070              -0.258272          0.485498   \n",
       "16_75283369-75287369                0.553364         -0.073092   \n",
       "\n",
       "                       19_35737922-35741922  19_41080891-41084891  \\\n",
       "1_156028951-156032951              0.453157             -0.215424   \n",
       "19_838960-842960                  -0.152249              0.445846   \n",
       "19_35737922-35741922               1.000000             -0.176355   \n",
       "19_41080891-41084891              -0.176355              1.000000   \n",
       "4_185745070-185749070             -0.080406              0.428624   \n",
       "16_75283369-75287369               0.749268              0.003598   \n",
       "\n",
       "                       4_185745070-185749070  16_75283369-75287369  \n",
       "1_156028951-156032951              -0.258272              0.553364  \n",
       "19_838960-842960                    0.485498             -0.073092  \n",
       "19_35737922-35741922               -0.080406              0.749268  \n",
       "19_41080891-41084891                0.428624              0.003598  \n",
       "4_185745070-185749070               1.000000              0.203277  \n",
       "16_75283369-75287369                0.203277              1.000000  "
      ]
     },
     "execution_count": 16,
     "metadata": {},
     "output_type": "execute_result"
    }
   ],
   "source": [
    "X_train.corr()"
   ]
  },
  {
   "cell_type": "code",
   "execution_count": null,
   "id": "023197b9",
   "metadata": {},
   "outputs": [],
   "source": []
  },
  {
   "cell_type": "code",
   "execution_count": 17,
   "id": "ed96b57f",
   "metadata": {},
   "outputs": [],
   "source": [
    "y_pred_train_coef = X_train['1_156028951-156032951'] * (-0.213) + X_train['19_838960-842960'] * 0.062 + \\\n",
    "                    X_train['19_35737922-35741922'] * (-0.174) + X_train['19_41080891-41084891'] * 0.607 + \\\n",
    "                    X_train['4_185745070-185749070'] * 0.431 + X_train['16_75283369-75287369'] * (-0.321)"
   ]
  },
  {
   "cell_type": "code",
   "execution_count": 18,
   "id": "5f72ff9a",
   "metadata": {},
   "outputs": [],
   "source": [
    "y_pred_test_coef = X_test['1_156028951-156032951'] * (-0.213) + X_test['19_838960-842960'] * 0.062 + \\\n",
    "                   X_test['19_35737922-35741922'] * (-0.174) + X_test['19_41080891-41084891'] * 0.607 + \\\n",
    "                   X_test['4_185745070-185749070'] * 0.431 + X_test['16_75283369-75287369'] * (-0.321)"
   ]
  },
  {
   "cell_type": "code",
   "execution_count": 19,
   "id": "58b46c62",
   "metadata": {},
   "outputs": [
    {
     "data": {
      "text/plain": [
       "0.19189243108036116"
      ]
     },
     "execution_count": 19,
     "metadata": {},
     "output_type": "execute_result"
    }
   ],
   "source": [
    "y_pred_train_correctzero = y_pred_train_coef\n",
    "y_pred_train_correctzero[y_pred_train_correctzero < 0] = 0\n",
    "train_mae = mean_absolute_error(y_train, y_pred_train_correctzero)\n",
    "train_mae"
   ]
  },
  {
   "cell_type": "code",
   "execution_count": 20,
   "id": "8df87c7a",
   "metadata": {},
   "outputs": [
    {
     "data": {
      "text/plain": [
       "0.19306358708505852"
      ]
     },
     "execution_count": 20,
     "metadata": {},
     "output_type": "execute_result"
    }
   ],
   "source": [
    "y_pred_test_correctzero = y_pred_test_coef\n",
    "y_pred_test_correctzero[y_pred_test_correctzero < 0] = 0\n",
    "test_mae = mean_absolute_error(y_test, y_pred_test_correctzero)\n",
    "test_mae"
   ]
  },
  {
   "cell_type": "code",
   "execution_count": 21,
   "id": "d922745f",
   "metadata": {},
   "outputs": [
    {
     "data": {
      "text/plain": [
       "[<matplotlib.lines.Line2D at 0x24b07d99460>]"
      ]
     },
     "execution_count": 21,
     "metadata": {},
     "output_type": "execute_result"
    },
    {
     "data": {
      "image/png": "[encoded data removed]",
      "text/plain": [
       "<Figure size 432x288 with 1 Axes>"
      ]
     },
     "metadata": {
      "needs_background": "light"
     },
     "output_type": "display_data"
    }
   ],
   "source": [
    "plt.plot(y_pred_train_correctzero,'.')\n",
    "plt.plot(y_train, '.')"
   ]
  },
  {
   "cell_type": "code",
   "execution_count": 22,
   "id": "60af5eec",
   "metadata": {},
   "outputs": [
    {
     "data": {
      "text/plain": [
       "[<matplotlib.lines.Line2D at 0x24b07dfe760>]"
      ]
     },
     "execution_count": 22,
     "metadata": {},
     "output_type": "execute_result"
    },
    {
     "data": {
      "image/png": "[encoded data removed]",
      "text/plain": [
       "<Figure size 432x288 with 1 Axes>"
      ]
     },
     "metadata": {
      "needs_background": "light"
     },
     "output_type": "display_data"
    }
   ],
   "source": [
    "plt.plot(y_pred_test_correctzero,'.')\n",
    "plt.plot(y_test, '.')"
   ]
  },
  {
   "cell_type": "code",
   "execution_count": 24,
   "id": "ee000525",
   "metadata": {},
   "outputs": [
    {
     "data": {
      "text/plain": [
       "(0.7090505439001568, 0.0)"
      ]
     },
     "execution_count": 24,
     "metadata": {},
     "output_type": "execute_result"
    }
   ],
   "source": [
    "scst.pearsonr(y_train, y_pred_train_correctzero)"
   ]
  },
  {
   "cell_type": "code",
   "execution_count": 25,
   "id": "7300c3c4",
   "metadata": {},
   "outputs": [
    {
     "data": {
      "text/plain": [
       "(-0.03924235993847669, 0.6040492054998264)"
      ]
     },
     "execution_count": 25,
     "metadata": {},
     "output_type": "execute_result"
    }
   ],
   "source": [
    "scst.pearsonr(y_test, y_pred_test_correctzero)"
   ]
  },
  {
   "cell_type": "code",
   "execution_count": 23,
   "id": "1c42b490",
   "metadata": {},
   "outputs": [],
   "source": [
    "#SHKBP1\t0.607\t\t19,41\n",
    "#ACSL1\t0.431\t\t4,185\n",
    "#BCAR1\t-0.321\t\t16,75\n",
    "#RAB25\t-0.213\t\t1,156\n",
    "#PRTN3\t0.062\t\t19,840\n",
    "#LSR\t-0.174\t\t19,35\n"
   ]
  }
 ],
 "metadata": {
  "kernelspec": {
   "display_name": "Python 3 (ipykernel)",
   "language": "python",
   "name": "python3"
  },
  "language_info": {
   "codemirror_mode": {
    "name": "ipython",
    "version": 3
   },
   "file_extension": ".py",
   "mimetype": "text/x-python",
   "name": "python",
   "nbconvert_exporter": "python",
   "pygments_lexer": "ipython3",
   "version": "3.9.7"
  }
 },
 "nbformat": 4,
 "nbformat_minor": 5
}
